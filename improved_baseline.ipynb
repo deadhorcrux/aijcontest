{
 "cells": [
  {
   "cell_type": "code",
   "execution_count": 1,
   "id": "8da4ff4a-567a-42a2-8f5d-66fe094d5711",
   "metadata": {
    "tags": []
   },
   "outputs": [],
   "source": [
    "import pandas as pd \n",
    "import numpy as np\n",
    "from tqdm.auto import tqdm\n",
    "import dill\n",
    "from sklearn.utils import shuffle\n",
    "from sklearn.model_selection import train_test_split\n",
    "from sklearn.preprocessing import LabelEncoder"
   ]
  },
  {
   "cell_type": "code",
   "execution_count": 2,
   "id": "e748b5ee-f630-4184-b637-fb4f7be5967e",
   "metadata": {
    "tags": []
   },
   "outputs": [],
   "source": [
    "events = pd.read_parquet('./sample_data/fold1/fit/smm_train_events.parquet')\n",
    "user_feat = pd.read_parquet('./sample_data/fold1/fit/user_features.parquet')\n",
    "user_tags = pd.read_parquet('./sample_data/fold1/fit/user_tags.parquet')"
   ]
  },
  {
   "cell_type": "code",
   "execution_count": 3,
   "id": "509a5ccc-b00d-4c75-8ca7-990f9b869eac",
   "metadata": {
    "tags": []
   },
   "outputs": [
    {
     "name": "stderr",
     "output_type": "stream",
     "text": [
      "/tmp/ipykernel_17480/2117921949.py:1: FutureWarning: Indexing with multiple keys (implicitly converted to a tuple of keys) will be deprecated, use a list instead.\n",
      "  user_tags = user_tags.groupby('user_id')['tag_score', 'tag_level', 'user_tag'].first()\n"
     ]
    }
   ],
   "source": [
    "user_tags = user_tags.groupby('user_id')['tag_score', 'tag_level', 'user_tag'].first()"
   ]
  },
  {
   "cell_type": "code",
   "execution_count": 4,
   "id": "7b4675bb-2dac-45df-a3e6-672ede4fb918",
   "metadata": {
    "tags": []
   },
   "outputs": [],
   "source": [
    "user_feat = user_feat.merge(user_tags.reset_index(), on='user_id', how='left')"
   ]
  },
  {
   "cell_type": "code",
   "execution_count": 5,
   "id": "236cec19-09cd-4eef-8701-ab155ce06de5",
   "metadata": {
    "tags": []
   },
   "outputs": [],
   "source": [
    "item_feat = events.groupby('item_id')['category_id'].first().reset_index()\n",
    "events = events.drop(['category_id'], axis=1)"
   ]
  },
  {
   "cell_type": "code",
   "execution_count": 6,
   "id": "6857e7de-b3d9-413b-837b-a0b19406c3eb",
   "metadata": {
    "tags": []
   },
   "outputs": [],
   "source": [
    "def make_features(df_users, user_feat):\n",
    "    col_names = user_feat.columns\n",
    "    cat_cols = []\n",
    "    num_cols = [] \n",
    "    \n",
    "    for col in col_names:\n",
    "        if user_feat[col].value_counts().shape[0] <= 10:\n",
    "            cat_cols.append(col)\n",
    "        else:\n",
    "            num_cols.append(col)\n",
    "    \n",
    "    enc = LabelEncoder()\n",
    "    for col in cat_cols:\n",
    "        user_feat[col] = enc.fit_transform(user_feat[col])\n",
    "        \n",
    "    for col in tqdm(num_cols):\n",
    "        user_feat[col] = pd.qcut(user_feat[col], 4, duplicates='drop').astype('category')\n",
    "    \n",
    "    for col in tqdm(num_cols):\n",
    "        if user_feat[col].isnull().any():\n",
    "            user_feat[col] = user_feat[col].cat.add_categories(col+'_unknown')\n",
    "    \n",
    "    for col in tqdm(num_cols):\n",
    "        if user_feat[col].isnull().any():\n",
    "            user_feat[col] = user_feat[col].fillna(col+'_unknown')\n",
    "    for col in tqdm(num_cols):\n",
    "        names = []\n",
    "        n = len(user_feat[col].unique())\n",
    "        for idx in range(n):\n",
    "            names.append(col + '_' + str(idx))\n",
    "        user_feat[col] = user_feat[col].cat.rename_categories(names)\n",
    "    \n",
    "    for col in tqdm(cat_cols):\n",
    "        user_feat[col] = user_feat[col].astype('category')\n",
    "\n",
    "    for col in tqdm(cat_cols):\n",
    "        if user_feat[col].isnull().any():\n",
    "            user_feat[col] = user_feat[col].cat.add_categories(col+'_unknown').fillna(col+'_unknown')\n",
    "    \n",
    "    for col in tqdm(cat_cols):\n",
    "        names = []\n",
    "        n = len(user_feat[col].unique())\n",
    "        for idx in range(n):\n",
    "            names.append(col + '_' + str(idx))\n",
    "        user_feat[col] = user_feat[col].cat.rename_categories(names)\n",
    "    \n",
    "    user_features = np.unique(user_feat.values)\n",
    "    \n",
    "    return user_feat, user_features"
   ]
  },
  {
   "cell_type": "code",
   "execution_count": 7,
   "id": "29a9a469-5173-4bfb-a314-a70dd340d9d1",
   "metadata": {
    "tags": []
   },
   "outputs": [
    {
     "data": {
      "application/vnd.jupyter.widget-view+json": {
       "model_id": "11dd9c3163b84c1eabb8f4035b696d4a",
       "version_major": 2,
       "version_minor": 0
      },
      "text/plain": [
       "  0%|          | 0/115 [00:00<?, ?it/s]"
      ]
     },
     "metadata": {},
     "output_type": "display_data"
    },
    {
     "data": {
      "application/vnd.jupyter.widget-view+json": {
       "model_id": "1b65cc22f62e4d30ba9064b84191ef86",
       "version_major": 2,
       "version_minor": 0
      },
      "text/plain": [
       "  0%|          | 0/115 [00:00<?, ?it/s]"
      ]
     },
     "metadata": {},
     "output_type": "display_data"
    },
    {
     "data": {
      "application/vnd.jupyter.widget-view+json": {
       "model_id": "ce399af0844e477faf7e33ca151b10ed",
       "version_major": 2,
       "version_minor": 0
      },
      "text/plain": [
       "  0%|          | 0/115 [00:00<?, ?it/s]"
      ]
     },
     "metadata": {},
     "output_type": "display_data"
    },
    {
     "data": {
      "application/vnd.jupyter.widget-view+json": {
       "model_id": "00c18c7b6f404bb1a357a2ce1824c318",
       "version_major": 2,
       "version_minor": 0
      },
      "text/plain": [
       "  0%|          | 0/115 [00:00<?, ?it/s]"
      ]
     },
     "metadata": {},
     "output_type": "display_data"
    },
    {
     "data": {
      "application/vnd.jupyter.widget-view+json": {
       "model_id": "cf7c40c822644266875a87973c5ac33a",
       "version_major": 2,
       "version_minor": 0
      },
      "text/plain": [
       "  0%|          | 0/48 [00:00<?, ?it/s]"
      ]
     },
     "metadata": {},
     "output_type": "display_data"
    },
    {
     "data": {
      "application/vnd.jupyter.widget-view+json": {
       "model_id": "2b2450d70ab84e48b2b41771cd65b711",
       "version_major": 2,
       "version_minor": 0
      },
      "text/plain": [
       "  0%|          | 0/48 [00:00<?, ?it/s]"
      ]
     },
     "metadata": {},
     "output_type": "display_data"
    },
    {
     "data": {
      "application/vnd.jupyter.widget-view+json": {
       "model_id": "765106a9618d4426940ebb73fcb09ea6",
       "version_major": 2,
       "version_minor": 0
      },
      "text/plain": [
       "  0%|          | 0/48 [00:00<?, ?it/s]"
      ]
     },
     "metadata": {},
     "output_type": "display_data"
    }
   ],
   "source": [
    "user_feat_enc, user_features = make_features(user_feat, user_feat.drop(['user_id', 'user_tag', 'report_dt', 'tag_score', 'tag_level', 'f163'], axis=1))"
   ]
  },
  {
   "cell_type": "code",
   "execution_count": 8,
   "id": "536a44a4-bfdf-4670-9401-b664ef180303",
   "metadata": {
    "tags": []
   },
   "outputs": [],
   "source": [
    "user_feat = pd.concat([user_feat[['user_id', 'user_tag','tag_score', 'tag_level']], user_feat_enc], axis=1)"
   ]
  },
  {
   "cell_type": "code",
   "execution_count": 9,
   "id": "cf116b0c-24a8-41c9-af50-ac0aea13ed7a",
   "metadata": {
    "tags": []
   },
   "outputs": [
    {
     "data": {
      "text/html": [
       "<div>\n",
       "<style scoped>\n",
       "    .dataframe tbody tr th:only-of-type {\n",
       "        vertical-align: middle;\n",
       "    }\n",
       "\n",
       "    .dataframe tbody tr th {\n",
       "        vertical-align: top;\n",
       "    }\n",
       "\n",
       "    .dataframe thead th {\n",
       "        text-align: right;\n",
       "    }\n",
       "</style>\n",
       "<table border=\"1\" class=\"dataframe\">\n",
       "  <thead>\n",
       "    <tr style=\"text-align: right;\">\n",
       "      <th></th>\n",
       "      <th>user_id</th>\n",
       "      <th>item_id</th>\n",
       "      <th>event</th>\n",
       "      <th>datetime</th>\n",
       "    </tr>\n",
       "  </thead>\n",
       "  <tbody>\n",
       "    <tr>\n",
       "      <th>0</th>\n",
       "      <td>3386880</td>\n",
       "      <td>3108429</td>\n",
       "      <td>2</td>\n",
       "      <td>2023-02-10 21:34:17.677</td>\n",
       "    </tr>\n",
       "    <tr>\n",
       "      <th>1</th>\n",
       "      <td>2404320</td>\n",
       "      <td>2896309</td>\n",
       "      <td>2</td>\n",
       "      <td>2023-02-10 17:58:59.987</td>\n",
       "    </tr>\n",
       "    <tr>\n",
       "      <th>2</th>\n",
       "      <td>4664651</td>\n",
       "      <td>1545131</td>\n",
       "      <td>0</td>\n",
       "      <td>2023-02-10 09:40:22.000</td>\n",
       "    </tr>\n",
       "    <tr>\n",
       "      <th>3</th>\n",
       "      <td>3630190</td>\n",
       "      <td>401021</td>\n",
       "      <td>0</td>\n",
       "      <td>2023-02-10 12:30:29.000</td>\n",
       "    </tr>\n",
       "    <tr>\n",
       "      <th>4</th>\n",
       "      <td>3873537</td>\n",
       "      <td>572913</td>\n",
       "      <td>0</td>\n",
       "      <td>2023-02-10 13:12:18.000</td>\n",
       "    </tr>\n",
       "  </tbody>\n",
       "</table>\n",
       "</div>"
      ],
      "text/plain": [
       "   user_id  item_id  event                datetime\n",
       "0  3386880  3108429      2 2023-02-10 21:34:17.677\n",
       "1  2404320  2896309      2 2023-02-10 17:58:59.987\n",
       "2  4664651  1545131      0 2023-02-10 09:40:22.000\n",
       "3  3630190   401021      0 2023-02-10 12:30:29.000\n",
       "4  3873537   572913      0 2023-02-10 13:12:18.000"
      ]
     },
     "execution_count": 9,
     "metadata": {},
     "output_type": "execute_result"
    }
   ],
   "source": [
    "events.head()"
   ]
  },
  {
   "cell_type": "code",
   "execution_count": 10,
   "id": "48c19c90-7be7-4a5e-841b-424f219941e0",
   "metadata": {
    "tags": []
   },
   "outputs": [
    {
     "data": {
      "text/plain": [
       "(Timestamp('2023-01-15 01:20:07'), Timestamp('2023-02-12 23:58:02'))"
      ]
     },
     "execution_count": 10,
     "metadata": {},
     "output_type": "execute_result"
    }
   ],
   "source": [
    "max_date = events['datetime'].max()\n",
    "min_date = events['datetime'].min()\n",
    "\n",
    "min_date, max_date"
   ]
  },
  {
   "cell_type": "code",
   "execution_count": 11,
   "id": "3ea723f2-d6b4-440a-b22c-b06cb90daca0",
   "metadata": {
    "tags": []
   },
   "outputs": [
    {
     "name": "stdout",
     "output_type": "stream",
     "text": [
      "train: (46368, 4)\n",
      "test: (16847, 4)\n"
     ]
    }
   ],
   "source": [
    "train = events[(events['datetime'] < max_date - pd.Timedelta(days=7))]\n",
    "test = events[(events['datetime'] >= max_date - pd.Timedelta(days=7))]\n",
    "\n",
    "print(f\"train: {train.shape}\")\n",
    "print(f\"test: {test.shape}\")"
   ]
  },
  {
   "cell_type": "code",
   "execution_count": 12,
   "id": "bd52acb3-47fa-4257-93ad-ea29f498e225",
   "metadata": {
    "tags": []
   },
   "outputs": [
    {
     "data": {
      "text/plain": [
       "Timestamp('2023-02-02 02:25:07.411000')"
      ]
     },
     "execution_count": 12,
     "metadata": {},
     "output_type": "execute_result"
    }
   ],
   "source": [
    "lfm_date_threshold = events['datetime'].quantile(q=0.6, interpolation='nearest')\n",
    "lfm_date_threshold"
   ]
  },
  {
   "cell_type": "code",
   "execution_count": 13,
   "id": "bf24042f-c950-4d9e-9ba2-ddd4c2831bad",
   "metadata": {
    "tags": []
   },
   "outputs": [
    {
     "name": "stdout",
     "output_type": "stream",
     "text": [
      "lfm_train: (37928, 4)\n",
      "lfm_pred: (25287, 4)\n"
     ]
    }
   ],
   "source": [
    "lfm_train = events[(events['datetime'] < lfm_date_threshold)]\n",
    "lfm_pred = events[(events['datetime'] >= lfm_date_threshold)]\n",
    "\n",
    "print(f\"lfm_train: {lfm_train.shape}\")\n",
    "print(f\"lfm_pred: {lfm_pred.shape}\")"
   ]
  },
  {
   "cell_type": "code",
   "execution_count": 14,
   "id": "ca515975-9ebb-46e3-81f9-72bd3736df01",
   "metadata": {
    "tags": []
   },
   "outputs": [],
   "source": [
    "lfm_pred = lfm_pred[lfm_pred['user_id'].isin(lfm_train['user_id'].unique())]"
   ]
  },
  {
   "cell_type": "code",
   "execution_count": 15,
   "id": "3dd55713-5fed-438a-8859-4ffc1ea1e240",
   "metadata": {
    "tags": []
   },
   "outputs": [],
   "source": [
    "from lightfm.data import Dataset\n",
    "from lightfm import LightFM"
   ]
  },
  {
   "cell_type": "code",
   "execution_count": 16,
   "id": "5813a7fb-26ba-45f9-8f0f-26050a7d6a24",
   "metadata": {
    "tags": []
   },
   "outputs": [],
   "source": [
    "dataset = Dataset()\n",
    "dataset.fit(lfm_train['user_id'].unique(), lfm_train['item_id'].unique())\n",
    "dataset.fit_partial(user_features=user_features)"
   ]
  },
  {
   "cell_type": "code",
   "execution_count": 17,
   "id": "0baefb92-89c1-4a2c-a66d-8458bea859b7",
   "metadata": {
    "tags": []
   },
   "outputs": [],
   "source": [
    "interactions_matrix, weights_matrix = dataset.build_interactions(\n",
    "    zip(*lfm_train[['user_id', 'item_id', 'event']].values.T)\n",
    ")\n",
    "\n",
    "weights_matrix_csr = weights_matrix.tocsr()"
   ]
  },
  {
   "cell_type": "code",
   "execution_count": 18,
   "id": "c9ef4a43-c5be-4d9b-9374-85d0ce79fb35",
   "metadata": {
    "tags": []
   },
   "outputs": [
    {
     "name": "stdout",
     "output_type": "stream",
     "text": [
      "users_mapping amount: 1165\n",
      "items_mapping amount: 11242\n"
     ]
    }
   ],
   "source": [
    "lightfm_mapping = dataset.mapping()\n",
    "lightfm_mapping = {\n",
    "    'users_mapping': lightfm_mapping[0],\n",
    "    'items_mapping': lightfm_mapping[2],\n",
    "}\n",
    "\n",
    "lightfm_mapping['users_inv_mapping'] = {v: k for k, v in lightfm_mapping['users_mapping'].items()}\n",
    "lightfm_mapping['items_inv_mapping'] = {v: k for k, v in lightfm_mapping['items_mapping'].items()}\n",
    "\n",
    "print(f\"users_mapping amount: {len(lightfm_mapping['users_mapping'])}\")\n",
    "print(f\"items_mapping amount: {len(lightfm_mapping['items_mapping'])}\")"
   ]
  },
  {
   "cell_type": "code",
   "execution_count": 19,
   "id": "219539b5-051e-4040-ab26-3f5077c6b708",
   "metadata": {
    "tags": []
   },
   "outputs": [],
   "source": [
    "lfm_model = LightFM(\n",
    "    no_components=64, \n",
    "    learning_rate=0.1, \n",
    "    loss='warp', \n",
    "    max_sampled=5, \n",
    "    random_state=42\n",
    ")"
   ]
  },
  {
   "cell_type": "code",
   "execution_count": 20,
   "id": "4f422708-f8d3-49e2-a934-19dea08585fa",
   "metadata": {
    "tags": []
   },
   "outputs": [
    {
     "data": {
      "application/vnd.jupyter.widget-view+json": {
       "model_id": "9f50df16b9df4e3f9f2fefe96ce21c76",
       "version_major": 2,
       "version_minor": 0
      },
      "text/plain": [
       "  0%|          | 0/20 [00:00<?, ?it/s]"
      ]
     },
     "metadata": {},
     "output_type": "display_data"
    }
   ],
   "source": [
    "num_epochs = 20\n",
    "\n",
    "for _ in tqdm(range(num_epochs)):\n",
    "    lfm_model.fit_partial(\n",
    "        weights_matrix_csr\n",
    "    )"
   ]
  },
  {
   "cell_type": "code",
   "execution_count": 21,
   "id": "6613bd48-25e5-4bdf-a048-29d62b42719a",
   "metadata": {
    "tags": []
   },
   "outputs": [],
   "source": [
    "with open(f\"lfm_model.dill\", 'wb') as f:\n",
    "    dill.dump(lfm_model, f)"
   ]
  },
  {
   "cell_type": "code",
   "execution_count": 22,
   "id": "5d73ac11-fcff-46f3-8021-4798bd4fe825",
   "metadata": {
    "tags": []
   },
   "outputs": [],
   "source": [
    "def generate_lightfm_recs_mapper(model, item_ids, known_items, \n",
    "                                 user_features, item_features, N, \n",
    "                                 user_mapping, item_inv_mapping, \n",
    "                                 num_threads=1):\n",
    "    def _recs_mapper(user):\n",
    "        user_id = user_mapping[user]\n",
    "        recs = model.predict(user_id, item_ids, user_features=user_features, \n",
    "                             item_features=item_features, num_threads=num_threads)\n",
    "        \n",
    "        additional_N = len(known_items[user_id]) if user_id in known_items else 0\n",
    "        total_N = N + additional_N\n",
    "        top_cols = np.argpartition(recs, -np.arange(total_N))[-total_N:][::-1]\n",
    "        \n",
    "        final_recs = [item_inv_mapping[item] for item in top_cols]\n",
    "        if additional_N > 0:\n",
    "            filter_items = known_items[user_id]\n",
    "            final_recs = [item for item in final_recs if item not in filter_items]\n",
    "        return final_recs[:N]\n",
    "    return _recs_mapper\n",
    "\n",
    "\n",
    "def compute_metrics(df_true, df_pred, top_N, rank_col='rank'):\n",
    "    result = {}\n",
    "    test_recs = df_true.set_index(['user_id', 'item_id']).join(df_pred.set_index(['user_id', 'item_id']))\n",
    "    test_recs = test_recs.sort_values(by=['user_id', rank_col])\n",
    "\n",
    "    test_recs['users_item_count'] = test_recs.groupby(level='user_id')[rank_col].transform(np.size)\n",
    "    test_recs['reciprocal_rank'] = (1 / test_recs[rank_col]).fillna(0)\n",
    "    test_recs['cumulative_rank'] = test_recs.groupby(level='user_id').cumcount() + 1\n",
    "    test_recs['cumulative_rank'] = test_recs['cumulative_rank'] / test_recs[rank_col]\n",
    "    \n",
    "    users_count = test_recs.index.get_level_values('user_id').nunique()\n",
    "    for k in range(1, top_N + 1):\n",
    "        hit_k = f'hit@{k}'\n",
    "        test_recs[hit_k] = test_recs[rank_col] <= k\n",
    "        result[f'Precision@{k}'] = (test_recs[hit_k] / k).sum() / users_count\n",
    "        result[f'Recall@{k}'] = (test_recs[hit_k] / test_recs['users_item_count']).sum() / users_count\n",
    "\n",
    "    result[f'MAP@{top_N}'] = (test_recs[\"cumulative_rank\"] / test_recs[\"users_item_count\"]).sum() / users_count\n",
    "    result[f'MRR'] = test_recs.groupby(level='user_id')['reciprocal_rank'].max().mean()\n",
    "    return pd.Series(result)\n"
   ]
  },
  {
   "cell_type": "code",
   "execution_count": 23,
   "id": "57bf599b-6375-4dc5-9a92-4a47f73dc309",
   "metadata": {
    "tags": []
   },
   "outputs": [
    {
     "data": {
      "text/html": [
       "<div>\n",
       "<style scoped>\n",
       "    .dataframe tbody tr th:only-of-type {\n",
       "        vertical-align: middle;\n",
       "    }\n",
       "\n",
       "    .dataframe tbody tr th {\n",
       "        vertical-align: top;\n",
       "    }\n",
       "\n",
       "    .dataframe thead th {\n",
       "        text-align: right;\n",
       "    }\n",
       "</style>\n",
       "<table border=\"1\" class=\"dataframe\">\n",
       "  <thead>\n",
       "    <tr style=\"text-align: right;\">\n",
       "      <th></th>\n",
       "      <th>user_id</th>\n",
       "    </tr>\n",
       "  </thead>\n",
       "  <tbody>\n",
       "    <tr>\n",
       "      <th>0</th>\n",
       "      <td>2404320</td>\n",
       "    </tr>\n",
       "    <tr>\n",
       "      <th>1</th>\n",
       "      <td>4664651</td>\n",
       "    </tr>\n",
       "    <tr>\n",
       "      <th>2</th>\n",
       "      <td>3630190</td>\n",
       "    </tr>\n",
       "  </tbody>\n",
       "</table>\n",
       "</div>"
      ],
      "text/plain": [
       "   user_id\n",
       "0  2404320\n",
       "1  4664651\n",
       "2  3630190"
      ]
     },
     "execution_count": 23,
     "metadata": {},
     "output_type": "execute_result"
    }
   ],
   "source": [
    "candidates = pd.DataFrame({\n",
    "    'user_id': lfm_pred['user_id'].unique()\n",
    "})\n",
    "\n",
    "candidates.head(3)"
   ]
  },
  {
   "cell_type": "code",
   "execution_count": 24,
   "id": "61334ada-506c-46f4-80cc-911af0e068f4",
   "metadata": {
    "tags": []
   },
   "outputs": [],
   "source": [
    "top_N = 100\n",
    "\n",
    "all_cols = list(lightfm_mapping['items_mapping'].values())\n",
    "\n",
    "mapper = generate_lightfm_recs_mapper(\n",
    "    lfm_model, \n",
    "    item_ids=all_cols, \n",
    "    known_items=dict(),\n",
    "    N=top_N,\n",
    "    user_features=None, \n",
    "    item_features=None, \n",
    "    user_mapping=lightfm_mapping['users_mapping'],\n",
    "    item_inv_mapping=lightfm_mapping['items_inv_mapping'],\n",
    "    num_threads=20\n",
    ")"
   ]
  },
  {
   "cell_type": "code",
   "execution_count": 25,
   "id": "eafa42bb-9835-45ad-ba86-89123d81f9fb",
   "metadata": {
    "tags": []
   },
   "outputs": [
    {
     "data": {
      "text/html": [
       "<div>\n",
       "<style scoped>\n",
       "    .dataframe tbody tr th:only-of-type {\n",
       "        vertical-align: middle;\n",
       "    }\n",
       "\n",
       "    .dataframe tbody tr th {\n",
       "        vertical-align: top;\n",
       "    }\n",
       "\n",
       "    .dataframe thead th {\n",
       "        text-align: right;\n",
       "    }\n",
       "</style>\n",
       "<table border=\"1\" class=\"dataframe\">\n",
       "  <thead>\n",
       "    <tr style=\"text-align: right;\">\n",
       "      <th></th>\n",
       "      <th>user_id</th>\n",
       "      <th>item_id</th>\n",
       "      <th>rank</th>\n",
       "    </tr>\n",
       "  </thead>\n",
       "  <tbody>\n",
       "    <tr>\n",
       "      <th>0</th>\n",
       "      <td>2404320</td>\n",
       "      <td>452365</td>\n",
       "      <td>1</td>\n",
       "    </tr>\n",
       "    <tr>\n",
       "      <th>0</th>\n",
       "      <td>2404320</td>\n",
       "      <td>1290849</td>\n",
       "      <td>2</td>\n",
       "    </tr>\n",
       "    <tr>\n",
       "      <th>0</th>\n",
       "      <td>2404320</td>\n",
       "      <td>2344401</td>\n",
       "      <td>3</td>\n",
       "    </tr>\n",
       "    <tr>\n",
       "      <th>0</th>\n",
       "      <td>2404320</td>\n",
       "      <td>2804677</td>\n",
       "      <td>4</td>\n",
       "    </tr>\n",
       "    <tr>\n",
       "      <th>0</th>\n",
       "      <td>2404320</td>\n",
       "      <td>649181</td>\n",
       "      <td>5</td>\n",
       "    </tr>\n",
       "  </tbody>\n",
       "</table>\n",
       "</div>"
      ],
      "text/plain": [
       "   user_id  item_id  rank\n",
       "0  2404320   452365     1\n",
       "0  2404320  1290849     2\n",
       "0  2404320  2344401     3\n",
       "0  2404320  2804677     4\n",
       "0  2404320   649181     5"
      ]
     },
     "execution_count": 25,
     "metadata": {},
     "output_type": "execute_result"
    }
   ],
   "source": [
    "candidates['item_id'] = candidates['user_id'].map(mapper)\n",
    "candidates = candidates.explode('item_id')\n",
    "candidates['rank'] = candidates.groupby('user_id').cumcount() + 1 \n",
    "\n",
    "candidates.head()"
   ]
  },
  {
   "cell_type": "code",
   "execution_count": 26,
   "id": "82033aef-d631-457a-bf55-856f1b452523",
   "metadata": {
    "tags": []
   },
   "outputs": [
    {
     "data": {
      "text/plain": [
       "(52500, 3)"
      ]
     },
     "execution_count": 26,
     "metadata": {},
     "output_type": "execute_result"
    }
   ],
   "source": [
    "candidates.shape"
   ]
  },
  {
   "cell_type": "code",
   "execution_count": 27,
   "id": "70780214-a4eb-4270-89e0-93d4c87b6316",
   "metadata": {
    "tags": []
   },
   "outputs": [
    {
     "name": "stdout",
     "output_type": "stream",
     "text": [
      "(3098, 6)\n"
     ]
    },
    {
     "data": {
      "text/html": [
       "<div>\n",
       "<style scoped>\n",
       "    .dataframe tbody tr th:only-of-type {\n",
       "        vertical-align: middle;\n",
       "    }\n",
       "\n",
       "    .dataframe tbody tr th {\n",
       "        vertical-align: top;\n",
       "    }\n",
       "\n",
       "    .dataframe thead th {\n",
       "        text-align: right;\n",
       "    }\n",
       "</style>\n",
       "<table border=\"1\" class=\"dataframe\">\n",
       "  <thead>\n",
       "    <tr style=\"text-align: right;\">\n",
       "      <th></th>\n",
       "      <th>user_id</th>\n",
       "      <th>item_id</th>\n",
       "      <th>rank</th>\n",
       "      <th>event</th>\n",
       "      <th>datetime</th>\n",
       "      <th>target</th>\n",
       "    </tr>\n",
       "  </thead>\n",
       "  <tbody>\n",
       "    <tr>\n",
       "      <th>0</th>\n",
       "      <td>3630190</td>\n",
       "      <td>3248170</td>\n",
       "      <td>85</td>\n",
       "      <td>0</td>\n",
       "      <td>2023-02-10 12:30:29.000</td>\n",
       "      <td>1</td>\n",
       "    </tr>\n",
       "    <tr>\n",
       "      <th>1</th>\n",
       "      <td>3630190</td>\n",
       "      <td>3248170</td>\n",
       "      <td>85</td>\n",
       "      <td>0</td>\n",
       "      <td>2023-02-10 12:30:29.000</td>\n",
       "      <td>1</td>\n",
       "    </tr>\n",
       "    <tr>\n",
       "      <th>2</th>\n",
       "      <td>3630190</td>\n",
       "      <td>3248170</td>\n",
       "      <td>85</td>\n",
       "      <td>0</td>\n",
       "      <td>2023-02-11 07:40:49.000</td>\n",
       "      <td>1</td>\n",
       "    </tr>\n",
       "    <tr>\n",
       "      <th>3</th>\n",
       "      <td>3630190</td>\n",
       "      <td>3248170</td>\n",
       "      <td>85</td>\n",
       "      <td>0</td>\n",
       "      <td>2023-02-11 07:40:49.000</td>\n",
       "      <td>1</td>\n",
       "    </tr>\n",
       "    <tr>\n",
       "      <th>4</th>\n",
       "      <td>5755584</td>\n",
       "      <td>459886</td>\n",
       "      <td>1</td>\n",
       "      <td>2</td>\n",
       "      <td>2023-02-02 09:11:57.376</td>\n",
       "      <td>1</td>\n",
       "    </tr>\n",
       "  </tbody>\n",
       "</table>\n",
       "</div>"
      ],
      "text/plain": [
       "   user_id  item_id  rank  event                datetime  target\n",
       "0  3630190  3248170    85      0 2023-02-10 12:30:29.000       1\n",
       "1  3630190  3248170    85      0 2023-02-10 12:30:29.000       1\n",
       "2  3630190  3248170    85      0 2023-02-11 07:40:49.000       1\n",
       "3  3630190  3248170    85      0 2023-02-11 07:40:49.000       1\n",
       "4  5755584   459886     1      2 2023-02-02 09:11:57.376       1"
      ]
     },
     "execution_count": 27,
     "metadata": {},
     "output_type": "execute_result"
    }
   ],
   "source": [
    "pos = candidates.merge(lfm_pred,\n",
    "                        on=['user_id', 'item_id'],\n",
    "                        how='inner')\n",
    "\n",
    "pos['target'] = 1\n",
    "print(pos.shape)\n",
    "pos.head()"
   ]
  },
  {
   "cell_type": "code",
   "execution_count": 28,
   "id": "6d01ed58-1cdb-4be7-8dfd-bb3a8ad1c8fa",
   "metadata": {
    "tags": []
   },
   "outputs": [
    {
     "data": {
      "text/plain": [
       "(3627, 6)"
      ]
     },
     "execution_count": 28,
     "metadata": {},
     "output_type": "execute_result"
    }
   ],
   "source": [
    "neg = candidates.set_index(['user_id', 'item_id'])\\\n",
    "        .join(lfm_pred.set_index(['user_id', 'item_id']))\n",
    "\n",
    "neg = neg[neg['event'].isnull()].reset_index()\n",
    "\n",
    "neg = neg.sample(frac=0.07)\n",
    "neg['target'] = 0\n",
    "\n",
    "neg.shape"
   ]
  },
  {
   "cell_type": "code",
   "execution_count": 29,
   "id": "6523429d-3c06-4306-9c6b-e4536604ef7c",
   "metadata": {
    "tags": []
   },
   "outputs": [],
   "source": [
    "ctb_train_users, ctb_test_users = train_test_split(lfm_pred['user_id'].unique(),\n",
    "                                                  random_state=1,\n",
    "                                                  test_size=0.2)"
   ]
  },
  {
   "cell_type": "code",
   "execution_count": 30,
   "id": "f1711a41-e137-473a-acf9-d2572fea9e0a",
   "metadata": {
    "tags": []
   },
   "outputs": [],
   "source": [
    "ctb_train_users, ctb_eval_users = train_test_split(ctb_train_users,\n",
    "                                                  random_state=1,\n",
    "                                                  test_size=0.2)"
   ]
  },
  {
   "cell_type": "code",
   "execution_count": 31,
   "id": "9b39cf41-87fa-4422-be4e-dd7624aed551",
   "metadata": {
    "tags": []
   },
   "outputs": [],
   "source": [
    "select_col = ['user_id', 'item_id', 'rank', 'target']\n",
    "\n",
    "# Catboost train\n",
    "ctb_train = shuffle(\n",
    "    pd.concat([\n",
    "        pos[pos['user_id'].isin(ctb_train_users)],\n",
    "        neg[neg['user_id'].isin(ctb_train_users)]\n",
    "])[select_col]\n",
    ")\n",
    "\n",
    "# Catboost test\n",
    "ctb_test = shuffle(\n",
    "    pd.concat([\n",
    "        pos[pos['user_id'].isin(ctb_test_users)],\n",
    "        neg[neg['user_id'].isin(ctb_test_users)]\n",
    "])[select_col]\n",
    ")\n",
    "\n",
    "# for early stopping\n",
    "ctb_eval = shuffle(\n",
    "    pd.concat([\n",
    "        pos[pos['user_id'].isin(ctb_eval_users)],\n",
    "        neg[neg['user_id'].isin(ctb_eval_users)]\n",
    "])[select_col]\n",
    ")"
   ]
  },
  {
   "cell_type": "code",
   "execution_count": 32,
   "id": "bb8c80ce-2dd7-4d56-9f66-6d79bf17182a",
   "metadata": {
    "tags": []
   },
   "outputs": [
    {
     "data": {
      "text/plain": [
       "0    0.54408\n",
       "1    0.45592\n",
       "Name: target, dtype: float64"
      ]
     },
     "execution_count": 32,
     "metadata": {},
     "output_type": "execute_result"
    }
   ],
   "source": [
    "ctb_train['target'].value_counts(normalize=True)"
   ]
  },
  {
   "cell_type": "code",
   "execution_count": 33,
   "id": "951bb4fd-aa49-4892-9ce3-f163dd43bd4e",
   "metadata": {
    "tags": []
   },
   "outputs": [
    {
     "data": {
      "text/plain": [
       "0    0.558069\n",
       "1    0.441931\n",
       "Name: target, dtype: float64"
      ]
     },
     "execution_count": 33,
     "metadata": {},
     "output_type": "execute_result"
    }
   ],
   "source": [
    "ctb_test['target'].value_counts(normalize=True)"
   ]
  },
  {
   "cell_type": "code",
   "execution_count": 34,
   "id": "b275eeb5-67ca-43df-bc9f-8276cfc125fe",
   "metadata": {
    "tags": []
   },
   "outputs": [],
   "source": [
    "train_feat = ctb_train.merge(user_feat[['user_id','f1', 'f40', 'f156', 'f101', 'tag_score', 'tag_level']],\n",
    "                           on=['user_id'],\n",
    "                           how='left')\\\n",
    "                        .merge(item_feat[['item_id', 'category_id']],\n",
    "                              on=['item_id'],\n",
    "                              how='left')\n",
    "\n",
    "eval_feat = ctb_eval.merge(user_feat[['user_id','f1', 'f40', 'f156', 'f101', 'tag_score', 'tag_level']],\n",
    "                           on=['user_id'],\n",
    "                           how='left')\\\n",
    "                    .merge(item_feat[['item_id', 'category_id']],\n",
    "                              on=['item_id'],\n",
    "                              how='left')"
   ]
  },
  {
   "cell_type": "code",
   "execution_count": 35,
   "id": "ba7f1778-16f6-41e7-939c-d4f16495e95c",
   "metadata": {
    "tags": []
   },
   "outputs": [],
   "source": [
    "drop_col = ['user_id', 'item_id']\n",
    "target_col = ['target']"
   ]
  },
  {
   "cell_type": "code",
   "execution_count": 36,
   "id": "5e9bff0f-fc72-4974-9fc1-a17f05e27c07",
   "metadata": {
    "tags": []
   },
   "outputs": [],
   "source": [
    "X_train, y_train = train_feat.drop(drop_col + target_col, axis=1), train_feat[target_col]\n",
    "X_val, y_val = eval_feat.drop(drop_col + target_col, axis=1), eval_feat[target_col]"
   ]
  },
  {
   "cell_type": "code",
   "execution_count": 37,
   "id": "b519437f-da52-4ef0-aac5-afc013695216",
   "metadata": {
    "tags": []
   },
   "outputs": [],
   "source": [
    "from catboost import CatBoostClassifier\n",
    "\n",
    "ctb_model = CatBoostClassifier(iterations=5000)"
   ]
  },
  {
   "cell_type": "code",
   "execution_count": 38,
   "id": "52ef4983-6677-4b62-a7fb-1ea50d86bb5a",
   "metadata": {},
   "outputs": [
    {
     "data": {
      "text/html": [
       "<div>\n",
       "<style scoped>\n",
       "    .dataframe tbody tr th:only-of-type {\n",
       "        vertical-align: middle;\n",
       "    }\n",
       "\n",
       "    .dataframe tbody tr th {\n",
       "        vertical-align: top;\n",
       "    }\n",
       "\n",
       "    .dataframe thead th {\n",
       "        text-align: right;\n",
       "    }\n",
       "</style>\n",
       "<table border=\"1\" class=\"dataframe\">\n",
       "  <thead>\n",
       "    <tr style=\"text-align: right;\">\n",
       "      <th></th>\n",
       "      <th>rank</th>\n",
       "      <th>f1</th>\n",
       "      <th>f40</th>\n",
       "      <th>f156</th>\n",
       "      <th>f101</th>\n",
       "      <th>tag_score</th>\n",
       "      <th>tag_level</th>\n",
       "      <th>category_id</th>\n",
       "    </tr>\n",
       "  </thead>\n",
       "  <tbody>\n",
       "    <tr>\n",
       "      <th>0</th>\n",
       "      <td>48</td>\n",
       "      <td>f1_1</td>\n",
       "      <td>f40_0</td>\n",
       "      <td>f156_3</td>\n",
       "      <td>f101_3</td>\n",
       "      <td>1.00</td>\n",
       "      <td>1.0</td>\n",
       "      <td>1196</td>\n",
       "    </tr>\n",
       "    <tr>\n",
       "      <th>1</th>\n",
       "      <td>67</td>\n",
       "      <td>f1_3</td>\n",
       "      <td>f40_2</td>\n",
       "      <td>f156_3</td>\n",
       "      <td>f101_3</td>\n",
       "      <td>0.75</td>\n",
       "      <td>3.0</td>\n",
       "      <td>7471</td>\n",
       "    </tr>\n",
       "    <tr>\n",
       "      <th>2</th>\n",
       "      <td>94</td>\n",
       "      <td>f1_0</td>\n",
       "      <td>f40_4</td>\n",
       "      <td>f156_0</td>\n",
       "      <td>f101_3</td>\n",
       "      <td>1.00</td>\n",
       "      <td>1.0</td>\n",
       "      <td>786</td>\n",
       "    </tr>\n",
       "    <tr>\n",
       "      <th>3</th>\n",
       "      <td>14</td>\n",
       "      <td>f1_0</td>\n",
       "      <td>f40_1</td>\n",
       "      <td>f156_1</td>\n",
       "      <td>f101_0</td>\n",
       "      <td>0.72</td>\n",
       "      <td>2.0</td>\n",
       "      <td>2110</td>\n",
       "    </tr>\n",
       "    <tr>\n",
       "      <th>4</th>\n",
       "      <td>31</td>\n",
       "      <td>f1_0</td>\n",
       "      <td>f40_3</td>\n",
       "      <td>f156_0</td>\n",
       "      <td>f101_3</td>\n",
       "      <td>0.69</td>\n",
       "      <td>3.0</td>\n",
       "      <td>8504</td>\n",
       "    </tr>\n",
       "  </tbody>\n",
       "</table>\n",
       "</div>"
      ],
      "text/plain": [
       "   rank    f1    f40    f156    f101  tag_score  tag_level  category_id\n",
       "0    48  f1_1  f40_0  f156_3  f101_3       1.00        1.0         1196\n",
       "1    67  f1_3  f40_2  f156_3  f101_3       0.75        3.0         7471\n",
       "2    94  f1_0  f40_4  f156_0  f101_3       1.00        1.0          786\n",
       "3    14  f1_0  f40_1  f156_1  f101_0       0.72        2.0         2110\n",
       "4    31  f1_0  f40_3  f156_0  f101_3       0.69        3.0         8504"
      ]
     },
     "execution_count": 38,
     "metadata": {},
     "output_type": "execute_result"
    }
   ],
   "source": [
    "X_train.head()"
   ]
  },
  {
   "cell_type": "code",
   "execution_count": 39,
   "id": "6452b4ce-09e8-4a50-87e7-2ffe5a5601e8",
   "metadata": {
    "tags": []
   },
   "outputs": [],
   "source": [
    "ctb_cat = list(X_train.drop(['rank'], axis=1).columns)"
   ]
  },
  {
   "cell_type": "code",
   "execution_count": 40,
   "id": "4c48c8e6-1519-4a53-b14e-2f49096ad3f1",
   "metadata": {
    "tags": []
   },
   "outputs": [],
   "source": [
    "X_train = X_train.fillna(X_train.mode().iloc[0])\n",
    "X_val = X_val.fillna(X_train.mode().iloc[0])"
   ]
  },
  {
   "cell_type": "code",
   "execution_count": 41,
   "id": "d364abb2-ad16-4ce3-aee0-a51b463ad1e2",
   "metadata": {
    "tags": []
   },
   "outputs": [
    {
     "name": "stdout",
     "output_type": "stream",
     "text": [
      "<class 'pandas.core.frame.DataFrame'>\n",
      "Int64Index: 4299 entries, 0 to 4298\n",
      "Data columns (total 8 columns):\n",
      " #   Column       Non-Null Count  Dtype   \n",
      "---  ------       --------------  -----   \n",
      " 0   rank         4299 non-null   int64   \n",
      " 1   f1           4299 non-null   category\n",
      " 2   f40          4299 non-null   category\n",
      " 3   f156         4299 non-null   category\n",
      " 4   f101         4299 non-null   category\n",
      " 5   tag_score    4299 non-null   float32 \n",
      " 6   tag_level    4299 non-null   float64 \n",
      " 7   category_id  4299 non-null   int32   \n",
      "dtypes: category(4), float32(1), float64(1), int32(1), int64(1)\n",
      "memory usage: 151.9 KB\n"
     ]
    }
   ],
   "source": [
    "X_train.info()"
   ]
  },
  {
   "cell_type": "code",
   "execution_count": 42,
   "id": "945f50ac-d9bb-4919-a85d-adb0a0a3edee",
   "metadata": {
    "tags": []
   },
   "outputs": [
    {
     "data": {
      "text/plain": [
       "['f1', 'f40', 'f156', 'f101', 'tag_score', 'tag_level', 'category_id']"
      ]
     },
     "execution_count": 42,
     "metadata": {},
     "output_type": "execute_result"
    }
   ],
   "source": [
    "ctb_cat"
   ]
  },
  {
   "cell_type": "code",
   "execution_count": 43,
   "id": "923259b3-474d-4927-b779-94eb0cece1b0",
   "metadata": {
    "tags": []
   },
   "outputs": [
    {
     "name": "stdout",
     "output_type": "stream",
     "text": [
      "Learning rate set to 0.022558\n",
      "0:\tlearn: 0.6819886\ttest: 0.6891157\tbest: 0.6891157 (0)\ttotal: 49.9ms\tremaining: 4m 9s\n",
      "10:\tlearn: 0.5828610\ttest: 0.6518887\tbest: 0.6518887 (10)\ttotal: 69.3ms\tremaining: 31.4s\n",
      "20:\tlearn: 0.5167310\ttest: 0.6369947\tbest: 0.6369947 (20)\ttotal: 87.6ms\tremaining: 20.8s\n",
      "30:\tlearn: 0.4733104\ttest: 0.6325897\tbest: 0.6325897 (30)\ttotal: 107ms\tremaining: 17.1s\n",
      "40:\tlearn: 0.4398635\ttest: 0.6416048\tbest: 0.6315898 (32)\ttotal: 125ms\tremaining: 15.2s\n",
      "50:\tlearn: 0.4114143\ttest: 0.6498413\tbest: 0.6315898 (32)\ttotal: 144ms\tremaining: 13.9s\n",
      "60:\tlearn: 0.3890005\ttest: 0.6680625\tbest: 0.6315898 (32)\ttotal: 163ms\tremaining: 13.2s\n",
      "70:\tlearn: 0.3702798\ttest: 0.6959019\tbest: 0.6315898 (32)\ttotal: 183ms\tremaining: 12.7s\n",
      "80:\tlearn: 0.3550723\ttest: 0.7180693\tbest: 0.6315898 (32)\ttotal: 210ms\tremaining: 12.7s\n",
      "90:\tlearn: 0.3427445\ttest: 0.7396084\tbest: 0.6315898 (32)\ttotal: 230ms\tremaining: 12.4s\n",
      "100:\tlearn: 0.3319889\ttest: 0.7546272\tbest: 0.6315898 (32)\ttotal: 248ms\tremaining: 12s\n",
      "110:\tlearn: 0.3215298\ttest: 0.7671487\tbest: 0.6315898 (32)\ttotal: 267ms\tremaining: 11.7s\n",
      "120:\tlearn: 0.3137091\ttest: 0.7812235\tbest: 0.6315898 (32)\ttotal: 284ms\tremaining: 11.5s\n",
      "130:\tlearn: 0.3056463\ttest: 0.7930156\tbest: 0.6315898 (32)\ttotal: 302ms\tremaining: 11.2s\n",
      "Stopped by overfitting detector  (100 iterations wait)\n",
      "\n",
      "bestTest = 0.6315897615\n",
      "bestIteration = 32\n",
      "\n",
      "Shrink model to first 33 iterations.\n"
     ]
    },
    {
     "data": {
      "text/plain": [
       "<catboost.core.CatBoostClassifier at 0x7fe1a44e1c90>"
      ]
     },
     "execution_count": 43,
     "metadata": {},
     "output_type": "execute_result"
    }
   ],
   "source": [
    "ctb_model.fit(X_train,\n",
    "              y_train,\n",
    "              eval_set=(X_val, y_val),\n",
    "              cat_features=['f1', 'f40', 'f156', 'f101'],\n",
    "              early_stopping_rounds=100,\n",
    "              verbose=10)"
   ]
  },
  {
   "cell_type": "code",
   "execution_count": 44,
   "id": "5ff7b702-9cd8-4280-9ad0-43048750639b",
   "metadata": {
    "tags": []
   },
   "outputs": [],
   "source": [
    "with open(f\"ctb_model.dill\", 'wb') as f:\n",
    "    dill.dump(ctb_model, f)"
   ]
  },
  {
   "cell_type": "code",
   "execution_count": 45,
   "id": "87176cb1-34c7-49df-84d8-20819bbc6526",
   "metadata": {
    "tags": []
   },
   "outputs": [],
   "source": [
    "test_feat = ctb_test.merge(user_feat[['user_id','f1', 'f40', 'f156', 'f101', 'tag_score', 'tag_level']],\n",
    "                           on=['user_id'],\n",
    "                           how='left')\\\n",
    "                    .merge(item_feat[['item_id', 'category_id']],\n",
    "                              on=['item_id'],\n",
    "                              how='left')"
   ]
  },
  {
   "cell_type": "code",
   "execution_count": 46,
   "id": "0c3589d4-3f9e-489e-bd3e-652142d84c40",
   "metadata": {
    "tags": []
   },
   "outputs": [],
   "source": [
    "test_feat = test_feat.fillna(X_train.mode().iloc[0])"
   ]
  },
  {
   "cell_type": "code",
   "execution_count": 47,
   "id": "250238a8-1fba-42f6-b90e-66d270c412ab",
   "metadata": {
    "tags": []
   },
   "outputs": [],
   "source": [
    "X_test, y_test = test_feat.drop(drop_col + target_col, axis=1), test_feat['target']"
   ]
  },
  {
   "cell_type": "code",
   "execution_count": 48,
   "id": "f96337f5-3e95-4ffc-ba4e-9afbc6b8d217",
   "metadata": {
    "tags": []
   },
   "outputs": [
    {
     "data": {
      "text/html": [
       "<div>\n",
       "<style scoped>\n",
       "    .dataframe tbody tr th:only-of-type {\n",
       "        vertical-align: middle;\n",
       "    }\n",
       "\n",
       "    .dataframe tbody tr th {\n",
       "        vertical-align: top;\n",
       "    }\n",
       "\n",
       "    .dataframe thead th {\n",
       "        text-align: right;\n",
       "    }\n",
       "</style>\n",
       "<table border=\"1\" class=\"dataframe\">\n",
       "  <thead>\n",
       "    <tr style=\"text-align: right;\">\n",
       "      <th></th>\n",
       "      <th>rank</th>\n",
       "      <th>f1</th>\n",
       "      <th>f40</th>\n",
       "      <th>f156</th>\n",
       "      <th>f101</th>\n",
       "      <th>tag_score</th>\n",
       "      <th>tag_level</th>\n",
       "      <th>category_id</th>\n",
       "    </tr>\n",
       "  </thead>\n",
       "  <tbody>\n",
       "    <tr>\n",
       "      <th>0</th>\n",
       "      <td>100</td>\n",
       "      <td>f1_1</td>\n",
       "      <td>f40_1</td>\n",
       "      <td>f156_1</td>\n",
       "      <td>f101_2</td>\n",
       "      <td>0.96</td>\n",
       "      <td>5.0</td>\n",
       "      <td>5429</td>\n",
       "    </tr>\n",
       "    <tr>\n",
       "      <th>1</th>\n",
       "      <td>54</td>\n",
       "      <td>f1_3</td>\n",
       "      <td>f40_0</td>\n",
       "      <td>f156_1</td>\n",
       "      <td>f101_3</td>\n",
       "      <td>1.00</td>\n",
       "      <td>1.0</td>\n",
       "      <td>981</td>\n",
       "    </tr>\n",
       "    <tr>\n",
       "      <th>2</th>\n",
       "      <td>52</td>\n",
       "      <td>f1_1</td>\n",
       "      <td>f40_0</td>\n",
       "      <td>f156_3</td>\n",
       "      <td>f101_3</td>\n",
       "      <td>0.66</td>\n",
       "      <td>3.0</td>\n",
       "      <td>5584</td>\n",
       "    </tr>\n",
       "    <tr>\n",
       "      <th>3</th>\n",
       "      <td>32</td>\n",
       "      <td>f1_3</td>\n",
       "      <td>f40_0</td>\n",
       "      <td>f156_1</td>\n",
       "      <td>f101_0</td>\n",
       "      <td>1.00</td>\n",
       "      <td>1.0</td>\n",
       "      <td>8591</td>\n",
       "    </tr>\n",
       "    <tr>\n",
       "      <th>4</th>\n",
       "      <td>15</td>\n",
       "      <td>f1_3</td>\n",
       "      <td>f40_3</td>\n",
       "      <td>f156_3</td>\n",
       "      <td>f101_3</td>\n",
       "      <td>1.00</td>\n",
       "      <td>1.0</td>\n",
       "      <td>4480</td>\n",
       "    </tr>\n",
       "  </tbody>\n",
       "</table>\n",
       "</div>"
      ],
      "text/plain": [
       "   rank    f1    f40    f156    f101  tag_score  tag_level  category_id\n",
       "0   100  f1_1  f40_1  f156_1  f101_2       0.96        5.0         5429\n",
       "1    54  f1_3  f40_0  f156_1  f101_3       1.00        1.0          981\n",
       "2    52  f1_1  f40_0  f156_3  f101_3       0.66        3.0         5584\n",
       "3    32  f1_3  f40_0  f156_1  f101_0       1.00        1.0         8591\n",
       "4    15  f1_3  f40_3  f156_3  f101_3       1.00        1.0         4480"
      ]
     },
     "execution_count": 48,
     "metadata": {},
     "output_type": "execute_result"
    }
   ],
   "source": [
    "X_test.head()"
   ]
  },
  {
   "cell_type": "code",
   "execution_count": 49,
   "id": "a2f0e5b0-63ba-4189-ab3e-49f2909c0c60",
   "metadata": {
    "tags": []
   },
   "outputs": [],
   "source": [
    "y_pred = ctb_model.predict_proba(X_test)"
   ]
  },
  {
   "cell_type": "code",
   "execution_count": 50,
   "id": "a8ba7073-b725-41d3-bf9b-08aec87b3a0c",
   "metadata": {
    "tags": []
   },
   "outputs": [
    {
     "data": {
      "text/plain": [
       "'ROC AUC score = 0.70'"
      ]
     },
     "execution_count": 50,
     "metadata": {},
     "output_type": "execute_result"
    }
   ],
   "source": [
    "from sklearn.metrics import roc_auc_score\n",
    "\n",
    "f\"ROC AUC score = {roc_auc_score(y_test, y_pred[:, 1]):.2f}\""
   ]
  },
  {
   "cell_type": "code",
   "execution_count": 51,
   "id": "f9cbeb48-1c33-4d26-a3d6-9767819758d7",
   "metadata": {
    "tags": []
   },
   "outputs": [],
   "source": [
    "test = test[test['user_id'].isin(lfm_train['user_id'].unique())]"
   ]
  },
  {
   "cell_type": "code",
   "execution_count": 52,
   "id": "0e7b0e0e-f1a7-4c80-958a-c408550cef99",
   "metadata": {
    "tags": []
   },
   "outputs": [],
   "source": [
    "# кол-во кандидатов берем больше, чем для обучения\n",
    "# чтобы катбусту было, что ранжировать\n",
    "top_N = 200\n",
    "\n",
    "lfm_prediction = pd.DataFrame({\n",
    "    'user_id': test['user_id'].unique()\n",
    "})\n",
    "\n",
    "known_items = lfm_train.groupby('user_id')['item_id'].apply(list).to_dict()\n",
    "\n",
    "mapper = generate_lightfm_recs_mapper(\n",
    "    lfm_model, \n",
    "    item_ids=all_cols, \n",
    "    known_items=known_items,\n",
    "    N=top_N,\n",
    "    user_features=None, \n",
    "    item_features=None, \n",
    "    user_mapping=lightfm_mapping['users_mapping'],\n",
    "    item_inv_mapping=lightfm_mapping['items_inv_mapping'],\n",
    "    num_threads=20\n",
    ")\n",
    "\n",
    "lfm_prediction['item_id'] = lfm_prediction['user_id'].map(mapper)\n",
    "lfm_prediction = lfm_prediction.explode('item_id').reset_index(drop=True)\n",
    "lfm_prediction['rank'] = lfm_prediction.groupby('user_id').cumcount() + 1 "
   ]
  },
  {
   "cell_type": "code",
   "execution_count": 53,
   "id": "2e084612-3b27-48c6-b0a6-5d83ca43d9dc",
   "metadata": {
    "tags": []
   },
   "outputs": [
    {
     "data": {
      "text/plain": [
       "Precision@1     0.168950\n",
       "Recall@1        0.008316\n",
       "Precision@2     0.116438\n",
       "Recall@2        0.013083\n",
       "Precision@3     0.109589\n",
       "Recall@3        0.018867\n",
       "Precision@4     0.108447\n",
       "Recall@4        0.023080\n",
       "Precision@5     0.094064\n",
       "Recall@5        0.026590\n",
       "Precision@6     0.086758\n",
       "Recall@6        0.028918\n",
       "Precision@7     0.100457\n",
       "Recall@7        0.030705\n",
       "Precision@8     0.096176\n",
       "Recall@8        0.031444\n",
       "Precision@9     0.091578\n",
       "Recall@9        0.033152\n",
       "Precision@10    0.087671\n",
       "Recall@10       0.035995\n",
       "MAP@10          0.067661\n",
       "MRR             0.085257\n",
       "dtype: float64"
      ]
     },
     "execution_count": 53,
     "metadata": {},
     "output_type": "execute_result"
    }
   ],
   "source": [
    "lfm_metrics = compute_metrics(test[['user_id', 'item_id']],\n",
    "                              lfm_prediction, \n",
    "                              top_N=10)\n",
    "lfm_metrics"
   ]
  },
  {
   "cell_type": "code",
   "execution_count": 54,
   "id": "3b16deb2-6675-4d95-a59e-7b3d3690aca0",
   "metadata": {
    "tags": []
   },
   "outputs": [],
   "source": [
    "lfm_ctb_prediction = lfm_prediction.copy()\n",
    "\n",
    "# фичи для теста\n",
    "score_feat = lfm_ctb_prediction.merge(user_feat[['user_id', 'f1', 'f40', 'f156', 'f101','tag_score', 'tag_level']] ,\n",
    "                                   on=['user_id'],\n",
    "                                   how='left')\\\n",
    "                                .merge(item_feat[['item_id', 'category_id']],\n",
    "                                  on=['item_id'],\n",
    "                                  how='left')\n",
    "# fillna for catboost with the most frequent value \n",
    "score_feat = score_feat.fillna(X_train.mode().iloc[0])"
   ]
  },
  {
   "cell_type": "code",
   "execution_count": 55,
   "id": "e971292e-d083-4fd7-ab1c-76066ffa0963",
   "metadata": {
    "tags": []
   },
   "outputs": [
    {
     "data": {
      "text/html": [
       "<div>\n",
       "<style scoped>\n",
       "    .dataframe tbody tr th:only-of-type {\n",
       "        vertical-align: middle;\n",
       "    }\n",
       "\n",
       "    .dataframe tbody tr th {\n",
       "        vertical-align: top;\n",
       "    }\n",
       "\n",
       "    .dataframe thead th {\n",
       "        text-align: right;\n",
       "    }\n",
       "</style>\n",
       "<table border=\"1\" class=\"dataframe\">\n",
       "  <thead>\n",
       "    <tr style=\"text-align: right;\">\n",
       "      <th></th>\n",
       "      <th>user_id</th>\n",
       "      <th>item_id</th>\n",
       "      <th>rank</th>\n",
       "      <th>ctb_pred</th>\n",
       "    </tr>\n",
       "  </thead>\n",
       "  <tbody>\n",
       "    <tr>\n",
       "      <th>0</th>\n",
       "      <td>2404320</td>\n",
       "      <td>452365</td>\n",
       "      <td>1</td>\n",
       "      <td>0.575258</td>\n",
       "    </tr>\n",
       "    <tr>\n",
       "      <th>1</th>\n",
       "      <td>2404320</td>\n",
       "      <td>1290849</td>\n",
       "      <td>2</td>\n",
       "      <td>0.575258</td>\n",
       "    </tr>\n",
       "    <tr>\n",
       "      <th>2</th>\n",
       "      <td>2404320</td>\n",
       "      <td>2344401</td>\n",
       "      <td>3</td>\n",
       "      <td>0.575258</td>\n",
       "    </tr>\n",
       "  </tbody>\n",
       "</table>\n",
       "</div>"
      ],
      "text/plain": [
       "   user_id  item_id  rank  ctb_pred\n",
       "0  2404320   452365     1  0.575258\n",
       "1  2404320  1290849     2  0.575258\n",
       "2  2404320  2344401     3  0.575258"
      ]
     },
     "execution_count": 55,
     "metadata": {},
     "output_type": "execute_result"
    }
   ],
   "source": [
    "ctb_prediction = ctb_model.predict_proba(score_feat.drop(drop_col, axis=1, errors='ignore'))\n",
    "\n",
    "lfm_ctb_prediction['ctb_pred'] = ctb_prediction[:, 1]\n",
    "lfm_ctb_prediction.head(3)"
   ]
  },
  {
   "cell_type": "code",
   "execution_count": 56,
   "id": "65ecbf47-dddb-4180-97fe-b063ce792b9f",
   "metadata": {
    "tags": []
   },
   "outputs": [],
   "source": [
    "import shap\n",
    "from catboost import Pool\n",
    "\n",
    "# сэмплируем для shap_values\n",
    "X_train_subs, _, y_train_subs, __ = train_test_split(X_train, y_train,\n",
    "                                                     test_size=0.9,\n",
    "                                                     random_state=42)\n",
    "# считаем shap_values\n",
    "shap_values = ctb_model.get_feature_importance(Pool(X_train_subs, y_train_subs,\n",
    "                                                   cat_features=['f1', 'f40', 'f156', 'f101']), type='ShapValues')\n",
    "\n",
    "expected_value = shap_values[0, -1]\n",
    "shap_values = shap_values[:, :-1]"
   ]
  },
  {
   "cell_type": "code",
   "execution_count": 57,
   "id": "b59568a0-818a-4581-91f7-501412178c6b",
   "metadata": {
    "tags": []
   },
   "outputs": [
    {
     "data": {
      "text/html": [
       "<div>\n",
       "<style scoped>\n",
       "    .dataframe tbody tr th:only-of-type {\n",
       "        vertical-align: middle;\n",
       "    }\n",
       "\n",
       "    .dataframe tbody tr th {\n",
       "        vertical-align: top;\n",
       "    }\n",
       "\n",
       "    .dataframe thead th {\n",
       "        text-align: right;\n",
       "    }\n",
       "</style>\n",
       "<table border=\"1\" class=\"dataframe\">\n",
       "  <thead>\n",
       "    <tr style=\"text-align: right;\">\n",
       "      <th></th>\n",
       "      <th>user_id</th>\n",
       "      <th>item_id</th>\n",
       "      <th>rank</th>\n",
       "    </tr>\n",
       "  </thead>\n",
       "  <tbody>\n",
       "    <tr>\n",
       "      <th>16199</th>\n",
       "      <td>1013292</td>\n",
       "      <td>1477353</td>\n",
       "      <td>200</td>\n",
       "    </tr>\n",
       "    <tr>\n",
       "      <th>16126</th>\n",
       "      <td>1013292</td>\n",
       "      <td>1000682</td>\n",
       "      <td>127</td>\n",
       "    </tr>\n",
       "    <tr>\n",
       "      <th>16127</th>\n",
       "      <td>1013292</td>\n",
       "      <td>555570</td>\n",
       "      <td>128</td>\n",
       "    </tr>\n",
       "    <tr>\n",
       "      <th>16128</th>\n",
       "      <td>1013292</td>\n",
       "      <td>1223027</td>\n",
       "      <td>129</td>\n",
       "    </tr>\n",
       "    <tr>\n",
       "      <th>16129</th>\n",
       "      <td>1013292</td>\n",
       "      <td>1985328</td>\n",
       "      <td>130</td>\n",
       "    </tr>\n",
       "    <tr>\n",
       "      <th>16130</th>\n",
       "      <td>1013292</td>\n",
       "      <td>2949071</td>\n",
       "      <td>131</td>\n",
       "    </tr>\n",
       "    <tr>\n",
       "      <th>16131</th>\n",
       "      <td>1013292</td>\n",
       "      <td>3352565</td>\n",
       "      <td>132</td>\n",
       "    </tr>\n",
       "    <tr>\n",
       "      <th>16132</th>\n",
       "      <td>1013292</td>\n",
       "      <td>617503</td>\n",
       "      <td>133</td>\n",
       "    </tr>\n",
       "    <tr>\n",
       "      <th>16133</th>\n",
       "      <td>1013292</td>\n",
       "      <td>2720758</td>\n",
       "      <td>134</td>\n",
       "    </tr>\n",
       "    <tr>\n",
       "      <th>16134</th>\n",
       "      <td>1013292</td>\n",
       "      <td>2618894</td>\n",
       "      <td>135</td>\n",
       "    </tr>\n",
       "  </tbody>\n",
       "</table>\n",
       "</div>"
      ],
      "text/plain": [
       "       user_id  item_id  rank\n",
       "16199  1013292  1477353   200\n",
       "16126  1013292  1000682   127\n",
       "16127  1013292   555570   128\n",
       "16128  1013292  1223027   129\n",
       "16129  1013292  1985328   130\n",
       "16130  1013292  2949071   131\n",
       "16131  1013292  3352565   132\n",
       "16132  1013292   617503   133\n",
       "16133  1013292  2720758   134\n",
       "16134  1013292  2618894   135"
      ]
     },
     "execution_count": 57,
     "metadata": {},
     "output_type": "execute_result"
    }
   ],
   "source": [
    "lfm_prediction.sort_values(\n",
    "    by=['user_id'], ascending=[True]).head(10)"
   ]
  },
  {
   "cell_type": "code",
   "execution_count": 58,
   "id": "4bfff3fa-7bdf-4d79-bffe-7aefd924fa3b",
   "metadata": {
    "tags": []
   },
   "outputs": [],
   "source": [
    "lfm_ctb_prediction = lfm_ctb_prediction.sort_values(\n",
    "    by=['user_id', 'ctb_pred'], ascending=[True, False])\n",
    "lfm_ctb_prediction['rank_ctb'] = lfm_ctb_prediction.groupby('user_id').cumcount() + 1"
   ]
  },
  {
   "cell_type": "code",
   "execution_count": 59,
   "id": "79c8bc91-8a91-42f7-b78c-d71cf70e9f00",
   "metadata": {
    "tags": []
   },
   "outputs": [
    {
     "data": {
      "text/html": [
       "<div>\n",
       "<style scoped>\n",
       "    .dataframe tbody tr th:only-of-type {\n",
       "        vertical-align: middle;\n",
       "    }\n",
       "\n",
       "    .dataframe tbody tr th {\n",
       "        vertical-align: top;\n",
       "    }\n",
       "\n",
       "    .dataframe thead th {\n",
       "        text-align: right;\n",
       "    }\n",
       "</style>\n",
       "<table border=\"1\" class=\"dataframe\">\n",
       "  <thead>\n",
       "    <tr style=\"text-align: right;\">\n",
       "      <th></th>\n",
       "      <th>user_id</th>\n",
       "      <th>item_id</th>\n",
       "      <th>rank</th>\n",
       "      <th>ctb_pred</th>\n",
       "      <th>rank_ctb</th>\n",
       "    </tr>\n",
       "  </thead>\n",
       "  <tbody>\n",
       "    <tr>\n",
       "      <th>16008</th>\n",
       "      <td>1013292</td>\n",
       "      <td>1610804</td>\n",
       "      <td>9</td>\n",
       "      <td>0.483889</td>\n",
       "      <td>1</td>\n",
       "    </tr>\n",
       "    <tr>\n",
       "      <th>16007</th>\n",
       "      <td>1013292</td>\n",
       "      <td>3303625</td>\n",
       "      <td>8</td>\n",
       "      <td>0.483330</td>\n",
       "      <td>2</td>\n",
       "    </tr>\n",
       "    <tr>\n",
       "      <th>16004</th>\n",
       "      <td>1013292</td>\n",
       "      <td>1734930</td>\n",
       "      <td>5</td>\n",
       "      <td>0.474236</td>\n",
       "      <td>3</td>\n",
       "    </tr>\n",
       "    <tr>\n",
       "      <th>16002</th>\n",
       "      <td>1013292</td>\n",
       "      <td>695008</td>\n",
       "      <td>3</td>\n",
       "      <td>0.473679</td>\n",
       "      <td>4</td>\n",
       "    </tr>\n",
       "    <tr>\n",
       "      <th>16003</th>\n",
       "      <td>1013292</td>\n",
       "      <td>757894</td>\n",
       "      <td>4</td>\n",
       "      <td>0.473679</td>\n",
       "      <td>5</td>\n",
       "    </tr>\n",
       "    <tr>\n",
       "      <th>16005</th>\n",
       "      <td>1013292</td>\n",
       "      <td>1580881</td>\n",
       "      <td>6</td>\n",
       "      <td>0.473679</td>\n",
       "      <td>6</td>\n",
       "    </tr>\n",
       "    <tr>\n",
       "      <th>16006</th>\n",
       "      <td>1013292</td>\n",
       "      <td>50578</td>\n",
       "      <td>7</td>\n",
       "      <td>0.473679</td>\n",
       "      <td>7</td>\n",
       "    </tr>\n",
       "    <tr>\n",
       "      <th>16000</th>\n",
       "      <td>1013292</td>\n",
       "      <td>3014073</td>\n",
       "      <td>1</td>\n",
       "      <td>0.466267</td>\n",
       "      <td>8</td>\n",
       "    </tr>\n",
       "    <tr>\n",
       "      <th>16001</th>\n",
       "      <td>1013292</td>\n",
       "      <td>2359194</td>\n",
       "      <td>2</td>\n",
       "      <td>0.466267</td>\n",
       "      <td>9</td>\n",
       "    </tr>\n",
       "    <tr>\n",
       "      <th>16010</th>\n",
       "      <td>1013292</td>\n",
       "      <td>1468950</td>\n",
       "      <td>11</td>\n",
       "      <td>0.463285</td>\n",
       "      <td>10</td>\n",
       "    </tr>\n",
       "  </tbody>\n",
       "</table>\n",
       "</div>"
      ],
      "text/plain": [
       "       user_id  item_id  rank  ctb_pred  rank_ctb\n",
       "16008  1013292  1610804     9  0.483889         1\n",
       "16007  1013292  3303625     8  0.483330         2\n",
       "16004  1013292  1734930     5  0.474236         3\n",
       "16002  1013292   695008     3  0.473679         4\n",
       "16003  1013292   757894     4  0.473679         5\n",
       "16005  1013292  1580881     6  0.473679         6\n",
       "16006  1013292    50578     7  0.473679         7\n",
       "16000  1013292  3014073     1  0.466267         8\n",
       "16001  1013292  2359194     2  0.466267         9\n",
       "16010  1013292  1468950    11  0.463285        10"
      ]
     },
     "execution_count": 59,
     "metadata": {},
     "output_type": "execute_result"
    }
   ],
   "source": [
    "lfm_ctb_prediction.head(10)"
   ]
  },
  {
   "cell_type": "code",
   "execution_count": 60,
   "id": "2f4a5627-f6e9-43cb-b8db-0d6f5957f721",
   "metadata": {
    "tags": []
   },
   "outputs": [
    {
     "data": {
      "text/plain": [
       "Precision@1     0.326484\n",
       "Recall@1        0.004448\n",
       "Precision@2     0.271689\n",
       "Recall@2        0.013901\n",
       "Precision@3     0.290715\n",
       "Recall@3        0.017841\n",
       "Precision@4     0.242009\n",
       "Recall@4        0.021465\n",
       "Precision@5     0.218265\n",
       "Recall@5        0.027297\n",
       "Precision@6     0.208524\n",
       "Recall@6        0.029491\n",
       "Precision@7     0.183953\n",
       "Recall@7        0.032130\n",
       "Precision@8     0.174372\n",
       "Recall@8        0.036021\n",
       "Precision@9     0.160578\n",
       "Recall@9        0.038541\n",
       "Precision@10    0.149087\n",
       "Recall@10       0.039340\n",
       "MAP@10          0.117893\n",
       "MRR             0.087954\n",
       "dtype: float64"
      ]
     },
     "execution_count": 60,
     "metadata": {},
     "output_type": "execute_result"
    }
   ],
   "source": [
    "model_2step_metrics = compute_metrics(test[['user_id', 'item_id']],\n",
    "                                       lfm_ctb_prediction, \n",
    "                                       top_N=10, \n",
    "                                       rank_col='rank_ctb')\n",
    "model_2step_metrics"
   ]
  },
  {
   "cell_type": "code",
   "execution_count": 61,
   "id": "83711572-9f10-4112-a98c-110fee2bc37d",
   "metadata": {
    "tags": []
   },
   "outputs": [
    {
     "data": {
      "text/html": [
       "<div>\n",
       "<style scoped>\n",
       "    .dataframe tbody tr th:only-of-type {\n",
       "        vertical-align: middle;\n",
       "    }\n",
       "\n",
       "    .dataframe tbody tr th {\n",
       "        vertical-align: top;\n",
       "    }\n",
       "\n",
       "    .dataframe thead th {\n",
       "        text-align: right;\n",
       "    }\n",
       "</style>\n",
       "<table border=\"1\" class=\"dataframe\">\n",
       "  <thead>\n",
       "    <tr style=\"text-align: right;\">\n",
       "      <th></th>\n",
       "      <th>Precision@1</th>\n",
       "      <th>Recall@1</th>\n",
       "      <th>Precision@2</th>\n",
       "      <th>Recall@2</th>\n",
       "      <th>Precision@3</th>\n",
       "      <th>Recall@3</th>\n",
       "      <th>Precision@4</th>\n",
       "      <th>Recall@4</th>\n",
       "      <th>Precision@5</th>\n",
       "      <th>Recall@5</th>\n",
       "      <th>...</th>\n",
       "      <th>Precision@7</th>\n",
       "      <th>Recall@7</th>\n",
       "      <th>Precision@8</th>\n",
       "      <th>Recall@8</th>\n",
       "      <th>Precision@9</th>\n",
       "      <th>Recall@9</th>\n",
       "      <th>Precision@10</th>\n",
       "      <th>Recall@10</th>\n",
       "      <th>MAP@10</th>\n",
       "      <th>MRR</th>\n",
       "    </tr>\n",
       "  </thead>\n",
       "  <tbody>\n",
       "    <tr>\n",
       "      <th>lightfm</th>\n",
       "      <td>0.168950</td>\n",
       "      <td>0.008316</td>\n",
       "      <td>0.116438</td>\n",
       "      <td>0.013083</td>\n",
       "      <td>0.109589</td>\n",
       "      <td>0.018867</td>\n",
       "      <td>0.108447</td>\n",
       "      <td>0.023080</td>\n",
       "      <td>0.094064</td>\n",
       "      <td>0.026590</td>\n",
       "      <td>...</td>\n",
       "      <td>0.100457</td>\n",
       "      <td>0.030705</td>\n",
       "      <td>0.096176</td>\n",
       "      <td>0.031444</td>\n",
       "      <td>0.091578</td>\n",
       "      <td>0.033152</td>\n",
       "      <td>0.087671</td>\n",
       "      <td>0.035995</td>\n",
       "      <td>0.067661</td>\n",
       "      <td>0.085257</td>\n",
       "    </tr>\n",
       "    <tr>\n",
       "      <th>model_2step</th>\n",
       "      <td>0.326484</td>\n",
       "      <td>0.004448</td>\n",
       "      <td>0.271689</td>\n",
       "      <td>0.013901</td>\n",
       "      <td>0.290715</td>\n",
       "      <td>0.017841</td>\n",
       "      <td>0.242009</td>\n",
       "      <td>0.021465</td>\n",
       "      <td>0.218265</td>\n",
       "      <td>0.027297</td>\n",
       "      <td>...</td>\n",
       "      <td>0.183953</td>\n",
       "      <td>0.032130</td>\n",
       "      <td>0.174372</td>\n",
       "      <td>0.036021</td>\n",
       "      <td>0.160578</td>\n",
       "      <td>0.038541</td>\n",
       "      <td>0.149087</td>\n",
       "      <td>0.039340</td>\n",
       "      <td>0.117893</td>\n",
       "      <td>0.087954</td>\n",
       "    </tr>\n",
       "  </tbody>\n",
       "</table>\n",
       "<p>2 rows × 22 columns</p>\n",
       "</div>"
      ],
      "text/plain": [
       "             Precision@1  Recall@1  Precision@2  Recall@2  Precision@3  \\\n",
       "lightfm         0.168950  0.008316     0.116438  0.013083     0.109589   \n",
       "model_2step     0.326484  0.004448     0.271689  0.013901     0.290715   \n",
       "\n",
       "             Recall@3  Precision@4  Recall@4  Precision@5  Recall@5  ...  \\\n",
       "lightfm      0.018867     0.108447  0.023080     0.094064  0.026590  ...   \n",
       "model_2step  0.017841     0.242009  0.021465     0.218265  0.027297  ...   \n",
       "\n",
       "             Precision@7  Recall@7  Precision@8  Recall@8  Precision@9  \\\n",
       "lightfm         0.100457  0.030705     0.096176  0.031444     0.091578   \n",
       "model_2step     0.183953  0.032130     0.174372  0.036021     0.160578   \n",
       "\n",
       "             Recall@9  Precision@10  Recall@10    MAP@10       MRR  \n",
       "lightfm      0.033152      0.087671   0.035995  0.067661  0.085257  \n",
       "model_2step  0.038541      0.149087   0.039340  0.117893  0.087954  \n",
       "\n",
       "[2 rows x 22 columns]"
      ]
     },
     "execution_count": 61,
     "metadata": {},
     "output_type": "execute_result"
    }
   ],
   "source": [
    "df_metrics = pd.concat([\n",
    "    pd.DataFrame(lfm_metrics).transpose(),\n",
    "    pd.DataFrame(model_2step_metrics).transpose()\n",
    "])\n",
    "\n",
    "df_metrics.index = ['lightfm', 'model_2step']\n",
    "\n",
    "df_metrics"
   ]
  },
  {
   "cell_type": "code",
   "execution_count": 62,
   "id": "d58dc210-922e-4bfb-a66e-973666f7ec6e",
   "metadata": {
    "tags": []
   },
   "outputs": [
    {
     "data": {
      "image/png": "[encoded data removed]",
      "text/plain": [
       "<Figure size 700x1500 with 2 Axes>"
      ]
     },
     "metadata": {},
     "output_type": "display_data"
    }
   ],
   "source": [
    "import matplotlib.pyplot as plt\n",
    "fig, axes = plt.subplots(ncols=1, nrows=2, figsize=(7, 15))\n",
    "\n",
    "for indx, metric in enumerate([f'Recall@', f'Precision@']):\n",
    "    for model in df_metrics.index:\n",
    "        axes[indx].plot(range(1, 11), \n",
    "                        df_metrics.loc[model][[metric+f'{k}' for k in range(1, 11)]].values,\n",
    "                        label=model, marker='o')\n",
    "        axes[indx].legend()\n",
    "        axes[indx].set_title(f'{metric}k')\n",
    "        axes[indx].set_xlabel('k')"
   ]
  }
 ],
 "metadata": {
  "kernelspec": {
   "display_name": "Python 3 (ipykernel)",
   "language": "python",
   "name": "python3"
  },
  "language_info": {
   "codemirror_mode": {
    "name": "ipython",
    "version": 3
   },
   "file_extension": ".py",
   "mimetype": "text/x-python",
   "name": "python",
   "nbconvert_exporter": "python",
   "pygments_lexer": "ipython3",
   "version": "3.11.4"
  }
 },
 "nbformat": 4,
 "nbformat_minor": 5
}
