{
 "cells": [
  {
   "cell_type": "code",
   "execution_count": 1,
   "id": "8da4ff4a-567a-42a2-8f5d-66fe094d5711",
   "metadata": {
    "tags": []
   },
   "outputs": [],
   "source": [
    "import pandas as pd \n",
    "import numpy as np\n",
    "from tqdm.auto import tqdm\n",
    "import dill\n",
    "from sklearn.utils import shuffle\n",
    "from sklearn.model_selection import train_test_split"
   ]
  },
  {
   "cell_type": "code",
   "execution_count": 2,
   "id": "e748b5ee-f630-4184-b637-fb4f7be5967e",
   "metadata": {
    "tags": []
   },
   "outputs": [],
   "source": [
    "events = pd.read_parquet('./sample_data/fold1/fit/smm_train_events.parquet')\n",
    "user_feat = pd.read_parquet('./sample_data/fold1/fit/user_features.parquet')\n",
    "user_tags = pd.read_parquet('./sample_data/fold1/fit/user_tags.parquet')"
   ]
  },
  {
   "cell_type": "code",
   "execution_count": 3,
   "id": "236cec19-09cd-4eef-8701-ab155ce06de5",
   "metadata": {
    "tags": []
   },
   "outputs": [],
   "source": [
    "item_feat = events[['item_id', 'category_id']]\n",
    "events = events.drop(['category_id'], axis=1)"
   ]
  },
  {
   "cell_type": "code",
   "execution_count": 4,
   "id": "cf116b0c-24a8-41c9-af50-ac0aea13ed7a",
   "metadata": {
    "tags": []
   },
   "outputs": [
    {
     "data": {
      "text/html": [
       "<div>\n",
       "<style scoped>\n",
       "    .dataframe tbody tr th:only-of-type {\n",
       "        vertical-align: middle;\n",
       "    }\n",
       "\n",
       "    .dataframe tbody tr th {\n",
       "        vertical-align: top;\n",
       "    }\n",
       "\n",
       "    .dataframe thead th {\n",
       "        text-align: right;\n",
       "    }\n",
       "</style>\n",
       "<table border=\"1\" class=\"dataframe\">\n",
       "  <thead>\n",
       "    <tr style=\"text-align: right;\">\n",
       "      <th></th>\n",
       "      <th>user_id</th>\n",
       "      <th>item_id</th>\n",
       "      <th>event</th>\n",
       "      <th>datetime</th>\n",
       "    </tr>\n",
       "  </thead>\n",
       "  <tbody>\n",
       "    <tr>\n",
       "      <th>0</th>\n",
       "      <td>3386880</td>\n",
       "      <td>3108429</td>\n",
       "      <td>2</td>\n",
       "      <td>2023-02-10 21:34:17.677</td>\n",
       "    </tr>\n",
       "    <tr>\n",
       "      <th>1</th>\n",
       "      <td>2404320</td>\n",
       "      <td>2896309</td>\n",
       "      <td>2</td>\n",
       "      <td>2023-02-10 17:58:59.987</td>\n",
       "    </tr>\n",
       "    <tr>\n",
       "      <th>2</th>\n",
       "      <td>4664651</td>\n",
       "      <td>1545131</td>\n",
       "      <td>0</td>\n",
       "      <td>2023-02-10 09:40:22.000</td>\n",
       "    </tr>\n",
       "    <tr>\n",
       "      <th>3</th>\n",
       "      <td>3630190</td>\n",
       "      <td>401021</td>\n",
       "      <td>0</td>\n",
       "      <td>2023-02-10 12:30:29.000</td>\n",
       "    </tr>\n",
       "    <tr>\n",
       "      <th>4</th>\n",
       "      <td>3873537</td>\n",
       "      <td>572913</td>\n",
       "      <td>0</td>\n",
       "      <td>2023-02-10 13:12:18.000</td>\n",
       "    </tr>\n",
       "  </tbody>\n",
       "</table>\n",
       "</div>"
      ],
      "text/plain": [
       "   user_id  item_id  event                datetime\n",
       "0  3386880  3108429      2 2023-02-10 21:34:17.677\n",
       "1  2404320  2896309      2 2023-02-10 17:58:59.987\n",
       "2  4664651  1545131      0 2023-02-10 09:40:22.000\n",
       "3  3630190   401021      0 2023-02-10 12:30:29.000\n",
       "4  3873537   572913      0 2023-02-10 13:12:18.000"
      ]
     },
     "execution_count": 4,
     "metadata": {},
     "output_type": "execute_result"
    }
   ],
   "source": [
    "events.head()"
   ]
  },
  {
   "cell_type": "code",
   "execution_count": 5,
   "id": "48c19c90-7be7-4a5e-841b-424f219941e0",
   "metadata": {
    "tags": []
   },
   "outputs": [
    {
     "data": {
      "text/plain": [
       "(Timestamp('2023-01-15 01:20:07'), Timestamp('2023-02-12 23:58:02'))"
      ]
     },
     "execution_count": 5,
     "metadata": {},
     "output_type": "execute_result"
    }
   ],
   "source": [
    "max_date = events['datetime'].max()\n",
    "min_date = events['datetime'].min()\n",
    "\n",
    "min_date, max_date"
   ]
  },
  {
   "cell_type": "code",
   "execution_count": 6,
   "id": "3ea723f2-d6b4-440a-b22c-b06cb90daca0",
   "metadata": {
    "tags": []
   },
   "outputs": [
    {
     "name": "stdout",
     "output_type": "stream",
     "text": [
      "train: (46368, 4)\n",
      "test: (16847, 4)\n"
     ]
    }
   ],
   "source": [
    "train = events[(events['datetime'] < max_date - pd.Timedelta(days=7))]\n",
    "test = events[(events['datetime'] >= max_date - pd.Timedelta(days=7))]\n",
    "\n",
    "print(f\"train: {train.shape}\")\n",
    "print(f\"test: {test.shape}\")"
   ]
  },
  {
   "cell_type": "code",
   "execution_count": 7,
   "id": "bd52acb3-47fa-4257-93ad-ea29f498e225",
   "metadata": {
    "tags": []
   },
   "outputs": [
    {
     "data": {
      "text/plain": [
       "Timestamp('2023-02-02 02:25:07.411000')"
      ]
     },
     "execution_count": 7,
     "metadata": {},
     "output_type": "execute_result"
    }
   ],
   "source": [
    "lfm_date_threshold = events['datetime'].quantile(q=0.6, interpolation='nearest')\n",
    "lfm_date_threshold"
   ]
  },
  {
   "cell_type": "code",
   "execution_count": 8,
   "id": "bf24042f-c950-4d9e-9ba2-ddd4c2831bad",
   "metadata": {
    "tags": []
   },
   "outputs": [
    {
     "name": "stdout",
     "output_type": "stream",
     "text": [
      "lfm_train: (37928, 4)\n",
      "lfm_pred: (25287, 4)\n"
     ]
    }
   ],
   "source": [
    "lfm_train = events[(events['datetime'] < lfm_date_threshold)]\n",
    "lfm_pred = events[(events['datetime'] >= lfm_date_threshold)]\n",
    "\n",
    "print(f\"lfm_train: {lfm_train.shape}\")\n",
    "print(f\"lfm_pred: {lfm_pred.shape}\")"
   ]
  },
  {
   "cell_type": "code",
   "execution_count": 9,
   "id": "ca515975-9ebb-46e3-81f9-72bd3736df01",
   "metadata": {
    "tags": []
   },
   "outputs": [],
   "source": [
    "lfm_pred = lfm_pred[lfm_pred['user_id'].isin(lfm_train['user_id'].unique())]"
   ]
  },
  {
   "cell_type": "code",
   "execution_count": 10,
   "id": "3dd55713-5fed-438a-8859-4ffc1ea1e240",
   "metadata": {
    "tags": []
   },
   "outputs": [],
   "source": [
    "from lightfm.data import Dataset\n",
    "from lightfm import LightFM"
   ]
  },
  {
   "cell_type": "code",
   "execution_count": 11,
   "id": "5813a7fb-26ba-45f9-8f0f-26050a7d6a24",
   "metadata": {
    "tags": []
   },
   "outputs": [],
   "source": [
    "dataset = Dataset()\n",
    "dataset.fit(lfm_train['user_id'].unique(), lfm_train['item_id'].unique())"
   ]
  },
  {
   "cell_type": "code",
   "execution_count": 12,
   "id": "0baefb92-89c1-4a2c-a66d-8458bea859b7",
   "metadata": {
    "tags": []
   },
   "outputs": [],
   "source": [
    "interactions_matrix, weights_matrix = dataset.build_interactions(\n",
    "    zip(*lfm_train[['user_id', 'item_id', 'event']].values.T)\n",
    ")\n",
    "\n",
    "weights_matrix_csr = weights_matrix.tocsr()"
   ]
  },
  {
   "cell_type": "code",
   "execution_count": 13,
   "id": "c9ef4a43-c5be-4d9b-9374-85d0ce79fb35",
   "metadata": {
    "tags": []
   },
   "outputs": [
    {
     "name": "stdout",
     "output_type": "stream",
     "text": [
      "users_mapping amount: 1165\n",
      "items_mapping amount: 11242\n"
     ]
    }
   ],
   "source": [
    "lightfm_mapping = dataset.mapping()\n",
    "lightfm_mapping = {\n",
    "    'users_mapping': lightfm_mapping[0],\n",
    "    'items_mapping': lightfm_mapping[2],\n",
    "}\n",
    "\n",
    "lightfm_mapping['users_inv_mapping'] = {v: k for k, v in lightfm_mapping['users_mapping'].items()}\n",
    "lightfm_mapping['items_inv_mapping'] = {v: k for k, v in lightfm_mapping['items_mapping'].items()}\n",
    "\n",
    "print(f\"users_mapping amount: {len(lightfm_mapping['users_mapping'])}\")\n",
    "print(f\"items_mapping amount: {len(lightfm_mapping['items_mapping'])}\")"
   ]
  },
  {
   "cell_type": "code",
   "execution_count": 14,
   "id": "219539b5-051e-4040-ab26-3f5077c6b708",
   "metadata": {
    "tags": []
   },
   "outputs": [],
   "source": [
    "lfm_model = LightFM(\n",
    "    no_components=64, \n",
    "    learning_rate=0.1, \n",
    "    loss='warp', \n",
    "    max_sampled=5, \n",
    "    random_state=42\n",
    ")"
   ]
  },
  {
   "cell_type": "code",
   "execution_count": 15,
   "id": "4f422708-f8d3-49e2-a934-19dea08585fa",
   "metadata": {
    "tags": []
   },
   "outputs": [
    {
     "data": {
      "application/vnd.jupyter.widget-view+json": {
       "model_id": "f9a474ce132449979527dfdf360f5ea9",
       "version_major": 2,
       "version_minor": 0
      },
      "text/plain": [
       "  0%|          | 0/20 [00:00<?, ?it/s]"
      ]
     },
     "metadata": {},
     "output_type": "display_data"
    }
   ],
   "source": [
    "num_epochs = 20\n",
    "\n",
    "for _ in tqdm(range(num_epochs)):\n",
    "    lfm_model.fit_partial(\n",
    "        weights_matrix_csr\n",
    "    )"
   ]
  },
  {
   "cell_type": "code",
   "execution_count": 16,
   "id": "6613bd48-25e5-4bdf-a048-29d62b42719a",
   "metadata": {
    "tags": []
   },
   "outputs": [],
   "source": [
    "with open(f\"lfm_model.dill\", 'wb') as f:\n",
    "    dill.dump(lfm_model, f)"
   ]
  },
  {
   "cell_type": "code",
   "execution_count": 17,
   "id": "5d73ac11-fcff-46f3-8021-4798bd4fe825",
   "metadata": {
    "tags": []
   },
   "outputs": [],
   "source": [
    "def generate_lightfm_recs_mapper(model, item_ids, known_items, \n",
    "                                 user_features, item_features, N, \n",
    "                                 user_mapping, item_inv_mapping, \n",
    "                                 num_threads=1):\n",
    "    def _recs_mapper(user):\n",
    "        user_id = user_mapping[user]\n",
    "        recs = model.predict(user_id, item_ids, user_features=user_features, \n",
    "                             item_features=item_features, num_threads=num_threads)\n",
    "        \n",
    "        additional_N = len(known_items[user_id]) if user_id in known_items else 0\n",
    "        total_N = N + additional_N\n",
    "        top_cols = np.argpartition(recs, -np.arange(total_N))[-total_N:][::-1]\n",
    "        \n",
    "        final_recs = [item_inv_mapping[item] for item in top_cols]\n",
    "        if additional_N > 0:\n",
    "            filter_items = known_items[user_id]\n",
    "            final_recs = [item for item in final_recs if item not in filter_items]\n",
    "        return final_recs[:N]\n",
    "    return _recs_mapper\n",
    "\n",
    "\n",
    "def compute_metrics(df_true, df_pred, top_N, rank_col='rank'):\n",
    "    result = {}\n",
    "    test_recs = df_true.set_index(['user_id', 'item_id']).join(df_pred.set_index(['user_id', 'item_id']))\n",
    "    test_recs = test_recs.sort_values(by=['user_id', rank_col])\n",
    "\n",
    "    test_recs['users_item_count'] = test_recs.groupby(level='user_id')[rank_col].transform(np.size)\n",
    "    test_recs['reciprocal_rank'] = (1 / test_recs[rank_col]).fillna(0)\n",
    "    test_recs['cumulative_rank'] = test_recs.groupby(level='user_id').cumcount() + 1\n",
    "    test_recs['cumulative_rank'] = test_recs['cumulative_rank'] / test_recs[rank_col]\n",
    "    \n",
    "    users_count = test_recs.index.get_level_values('user_id').nunique()\n",
    "    for k in range(1, top_N + 1):\n",
    "        hit_k = f'hit@{k}'\n",
    "        test_recs[hit_k] = test_recs[rank_col] <= k\n",
    "        result[f'Precision@{k}'] = (test_recs[hit_k] / k).sum() / users_count\n",
    "        result[f'Recall@{k}'] = (test_recs[hit_k] / test_recs['users_item_count']).sum() / users_count\n",
    "\n",
    "    result[f'MAP@{top_N}'] = (test_recs[\"cumulative_rank\"] / test_recs[\"users_item_count\"]).sum() / users_count\n",
    "    result[f'MRR'] = test_recs.groupby(level='user_id')['reciprocal_rank'].max().mean()\n",
    "    return pd.Series(result)\n"
   ]
  },
  {
   "cell_type": "code",
   "execution_count": 18,
   "id": "57bf599b-6375-4dc5-9a92-4a47f73dc309",
   "metadata": {
    "tags": []
   },
   "outputs": [
    {
     "data": {
      "text/html": [
       "<div>\n",
       "<style scoped>\n",
       "    .dataframe tbody tr th:only-of-type {\n",
       "        vertical-align: middle;\n",
       "    }\n",
       "\n",
       "    .dataframe tbody tr th {\n",
       "        vertical-align: top;\n",
       "    }\n",
       "\n",
       "    .dataframe thead th {\n",
       "        text-align: right;\n",
       "    }\n",
       "</style>\n",
       "<table border=\"1\" class=\"dataframe\">\n",
       "  <thead>\n",
       "    <tr style=\"text-align: right;\">\n",
       "      <th></th>\n",
       "      <th>user_id</th>\n",
       "    </tr>\n",
       "  </thead>\n",
       "  <tbody>\n",
       "    <tr>\n",
       "      <th>0</th>\n",
       "      <td>2404320</td>\n",
       "    </tr>\n",
       "    <tr>\n",
       "      <th>1</th>\n",
       "      <td>4664651</td>\n",
       "    </tr>\n",
       "    <tr>\n",
       "      <th>2</th>\n",
       "      <td>3630190</td>\n",
       "    </tr>\n",
       "  </tbody>\n",
       "</table>\n",
       "</div>"
      ],
      "text/plain": [
       "   user_id\n",
       "0  2404320\n",
       "1  4664651\n",
       "2  3630190"
      ]
     },
     "execution_count": 18,
     "metadata": {},
     "output_type": "execute_result"
    }
   ],
   "source": [
    "candidates = pd.DataFrame({\n",
    "    'user_id': lfm_pred['user_id'].unique()\n",
    "})\n",
    "\n",
    "candidates.head(3)"
   ]
  },
  {
   "cell_type": "code",
   "execution_count": 19,
   "id": "61334ada-506c-46f4-80cc-911af0e068f4",
   "metadata": {
    "tags": []
   },
   "outputs": [],
   "source": [
    "top_N = 30\n",
    "\n",
    "all_cols = list(lightfm_mapping['items_mapping'].values())\n",
    "\n",
    "mapper = generate_lightfm_recs_mapper(\n",
    "    lfm_model, \n",
    "    item_ids=all_cols, \n",
    "    known_items=dict(),\n",
    "    N=top_N,\n",
    "    user_features=None, \n",
    "    item_features=None, \n",
    "    user_mapping=lightfm_mapping['users_mapping'],\n",
    "    item_inv_mapping=lightfm_mapping['items_inv_mapping'],\n",
    "    num_threads=20\n",
    ")"
   ]
  },
  {
   "cell_type": "code",
   "execution_count": 20,
   "id": "eafa42bb-9835-45ad-ba86-89123d81f9fb",
   "metadata": {
    "tags": []
   },
   "outputs": [
    {
     "data": {
      "text/html": [
       "<div>\n",
       "<style scoped>\n",
       "    .dataframe tbody tr th:only-of-type {\n",
       "        vertical-align: middle;\n",
       "    }\n",
       "\n",
       "    .dataframe tbody tr th {\n",
       "        vertical-align: top;\n",
       "    }\n",
       "\n",
       "    .dataframe thead th {\n",
       "        text-align: right;\n",
       "    }\n",
       "</style>\n",
       "<table border=\"1\" class=\"dataframe\">\n",
       "  <thead>\n",
       "    <tr style=\"text-align: right;\">\n",
       "      <th></th>\n",
       "      <th>user_id</th>\n",
       "      <th>item_id</th>\n",
       "      <th>rank</th>\n",
       "    </tr>\n",
       "  </thead>\n",
       "  <tbody>\n",
       "    <tr>\n",
       "      <th>0</th>\n",
       "      <td>2404320</td>\n",
       "      <td>452365</td>\n",
       "      <td>1</td>\n",
       "    </tr>\n",
       "    <tr>\n",
       "      <th>0</th>\n",
       "      <td>2404320</td>\n",
       "      <td>1290849</td>\n",
       "      <td>2</td>\n",
       "    </tr>\n",
       "    <tr>\n",
       "      <th>0</th>\n",
       "      <td>2404320</td>\n",
       "      <td>2344401</td>\n",
       "      <td>3</td>\n",
       "    </tr>\n",
       "    <tr>\n",
       "      <th>0</th>\n",
       "      <td>2404320</td>\n",
       "      <td>2804677</td>\n",
       "      <td>4</td>\n",
       "    </tr>\n",
       "    <tr>\n",
       "      <th>0</th>\n",
       "      <td>2404320</td>\n",
       "      <td>649181</td>\n",
       "      <td>5</td>\n",
       "    </tr>\n",
       "  </tbody>\n",
       "</table>\n",
       "</div>"
      ],
      "text/plain": [
       "   user_id  item_id  rank\n",
       "0  2404320   452365     1\n",
       "0  2404320  1290849     2\n",
       "0  2404320  2344401     3\n",
       "0  2404320  2804677     4\n",
       "0  2404320   649181     5"
      ]
     },
     "execution_count": 20,
     "metadata": {},
     "output_type": "execute_result"
    }
   ],
   "source": [
    "candidates['item_id'] = candidates['user_id'].map(mapper)\n",
    "candidates = candidates.explode('item_id')\n",
    "candidates['rank'] = candidates.groupby('user_id').cumcount() + 1 \n",
    "\n",
    "candidates.head()"
   ]
  },
  {
   "cell_type": "code",
   "execution_count": 21,
   "id": "82033aef-d631-457a-bf55-856f1b452523",
   "metadata": {
    "tags": []
   },
   "outputs": [
    {
     "data": {
      "text/plain": [
       "(15750, 3)"
      ]
     },
     "execution_count": 21,
     "metadata": {},
     "output_type": "execute_result"
    }
   ],
   "source": [
    "candidates.shape"
   ]
  },
  {
   "cell_type": "code",
   "execution_count": 22,
   "id": "70780214-a4eb-4270-89e0-93d4c87b6316",
   "metadata": {
    "tags": []
   },
   "outputs": [
    {
     "name": "stdout",
     "output_type": "stream",
     "text": [
      "(1916, 6)\n"
     ]
    },
    {
     "data": {
      "text/html": [
       "<div>\n",
       "<style scoped>\n",
       "    .dataframe tbody tr th:only-of-type {\n",
       "        vertical-align: middle;\n",
       "    }\n",
       "\n",
       "    .dataframe tbody tr th {\n",
       "        vertical-align: top;\n",
       "    }\n",
       "\n",
       "    .dataframe thead th {\n",
       "        text-align: right;\n",
       "    }\n",
       "</style>\n",
       "<table border=\"1\" class=\"dataframe\">\n",
       "  <thead>\n",
       "    <tr style=\"text-align: right;\">\n",
       "      <th></th>\n",
       "      <th>user_id</th>\n",
       "      <th>item_id</th>\n",
       "      <th>rank</th>\n",
       "      <th>event</th>\n",
       "      <th>datetime</th>\n",
       "      <th>target</th>\n",
       "    </tr>\n",
       "  </thead>\n",
       "  <tbody>\n",
       "    <tr>\n",
       "      <th>0</th>\n",
       "      <td>5755584</td>\n",
       "      <td>459886</td>\n",
       "      <td>1</td>\n",
       "      <td>2</td>\n",
       "      <td>2023-02-02 09:11:57.376</td>\n",
       "      <td>1</td>\n",
       "    </tr>\n",
       "    <tr>\n",
       "      <th>1</th>\n",
       "      <td>5755584</td>\n",
       "      <td>459886</td>\n",
       "      <td>1</td>\n",
       "      <td>2</td>\n",
       "      <td>2023-02-02 09:11:57.645</td>\n",
       "      <td>1</td>\n",
       "    </tr>\n",
       "    <tr>\n",
       "      <th>2</th>\n",
       "      <td>5755584</td>\n",
       "      <td>107755</td>\n",
       "      <td>9</td>\n",
       "      <td>2</td>\n",
       "      <td>2023-02-10 09:06:01.872</td>\n",
       "      <td>1</td>\n",
       "    </tr>\n",
       "    <tr>\n",
       "      <th>3</th>\n",
       "      <td>5755584</td>\n",
       "      <td>107755</td>\n",
       "      <td>9</td>\n",
       "      <td>2</td>\n",
       "      <td>2023-02-10 09:06:01.747</td>\n",
       "      <td>1</td>\n",
       "    </tr>\n",
       "    <tr>\n",
       "      <th>4</th>\n",
       "      <td>5755584</td>\n",
       "      <td>107755</td>\n",
       "      <td>9</td>\n",
       "      <td>2</td>\n",
       "      <td>2023-02-02 12:46:06.496</td>\n",
       "      <td>1</td>\n",
       "    </tr>\n",
       "  </tbody>\n",
       "</table>\n",
       "</div>"
      ],
      "text/plain": [
       "   user_id item_id  rank  event                datetime  target\n",
       "0  5755584  459886     1      2 2023-02-02 09:11:57.376       1\n",
       "1  5755584  459886     1      2 2023-02-02 09:11:57.645       1\n",
       "2  5755584  107755     9      2 2023-02-10 09:06:01.872       1\n",
       "3  5755584  107755     9      2 2023-02-10 09:06:01.747       1\n",
       "4  5755584  107755     9      2 2023-02-02 12:46:06.496       1"
      ]
     },
     "execution_count": 22,
     "metadata": {},
     "output_type": "execute_result"
    }
   ],
   "source": [
    "pos = candidates.merge(lfm_pred,\n",
    "                        on=['user_id', 'item_id'],\n",
    "                        how='inner')\n",
    "\n",
    "pos['target'] = 1\n",
    "print(pos.shape)\n",
    "pos.head()"
   ]
  },
  {
   "cell_type": "code",
   "execution_count": 23,
   "id": "6d01ed58-1cdb-4be7-8dfd-bb3a8ad1c8fa",
   "metadata": {
    "tags": []
   },
   "outputs": [
    {
     "data": {
      "text/plain": [
       "(1073, 6)"
      ]
     },
     "execution_count": 23,
     "metadata": {},
     "output_type": "execute_result"
    }
   ],
   "source": [
    "neg = candidates.set_index(['user_id', 'item_id'])\\\n",
    "        .join(lfm_pred.set_index(['user_id', 'item_id']))\n",
    "\n",
    "neg = neg[neg['event'].isnull()].reset_index()\n",
    "\n",
    "neg = neg.sample(frac=0.07)\n",
    "neg['target'] = 0\n",
    "\n",
    "neg.shape"
   ]
  },
  {
   "cell_type": "code",
   "execution_count": 24,
   "id": "6523429d-3c06-4306-9c6b-e4536604ef7c",
   "metadata": {
    "tags": []
   },
   "outputs": [],
   "source": [
    "ctb_train_users, ctb_test_users = train_test_split(lfm_pred['user_id'].unique(),\n",
    "                                                  random_state=1,\n",
    "                                                  test_size=0.2)"
   ]
  },
  {
   "cell_type": "code",
   "execution_count": 25,
   "id": "f1711a41-e137-473a-acf9-d2572fea9e0a",
   "metadata": {
    "tags": []
   },
   "outputs": [],
   "source": [
    "ctb_train_users, ctb_eval_users = train_test_split(ctb_train_users,\n",
    "                                                  random_state=1,\n",
    "                                                  test_size=0.1)"
   ]
  },
  {
   "cell_type": "code",
   "execution_count": 26,
   "id": "9b39cf41-87fa-4422-be4e-dd7624aed551",
   "metadata": {
    "tags": []
   },
   "outputs": [],
   "source": [
    "select_col = ['user_id', 'item_id', 'rank', 'target']\n",
    "\n",
    "# Catboost train\n",
    "ctb_train = shuffle(\n",
    "    pd.concat([\n",
    "        pos[pos['user_id'].isin(ctb_train_users)],\n",
    "        neg[neg['user_id'].isin(ctb_train_users)]\n",
    "])[select_col]\n",
    ")\n",
    "\n",
    "# Catboost test\n",
    "ctb_test = shuffle(\n",
    "    pd.concat([\n",
    "        pos[pos['user_id'].isin(ctb_test_users)],\n",
    "        neg[neg['user_id'].isin(ctb_test_users)]\n",
    "])[select_col]\n",
    ")\n",
    "\n",
    "# for early stopping\n",
    "ctb_eval = shuffle(\n",
    "    pd.concat([\n",
    "        pos[pos['user_id'].isin(ctb_eval_users)],\n",
    "        neg[neg['user_id'].isin(ctb_eval_users)]\n",
    "])[select_col]\n",
    ")"
   ]
  },
  {
   "cell_type": "code",
   "execution_count": 27,
   "id": "bb8c80ce-2dd7-4d56-9f66-6d79bf17182a",
   "metadata": {
    "tags": []
   },
   "outputs": [
    {
     "data": {
      "text/plain": [
       "1    0.634634\n",
       "0    0.365366\n",
       "Name: target, dtype: float64"
      ]
     },
     "execution_count": 27,
     "metadata": {},
     "output_type": "execute_result"
    }
   ],
   "source": [
    "ctb_train['target'].value_counts(normalize=True)"
   ]
  },
  {
   "cell_type": "code",
   "execution_count": 28,
   "id": "951bb4fd-aa49-4892-9ce3-f163dd43bd4e",
   "metadata": {
    "tags": []
   },
   "outputs": [
    {
     "data": {
      "text/plain": [
       "1    0.62585\n",
       "0    0.37415\n",
       "Name: target, dtype: float64"
      ]
     },
     "execution_count": 28,
     "metadata": {},
     "output_type": "execute_result"
    }
   ],
   "source": [
    "ctb_test['target'].value_counts(normalize=True)"
   ]
  },
  {
   "cell_type": "code",
   "execution_count": 29,
   "id": "f8562939-4a05-450b-ad09-87d900f92fc1",
   "metadata": {},
   "outputs": [],
   "source": [
    "user_col = ['user_id', 'age', 'income', 'sex', 'kids_flg']\n",
    "item_col = ['item_id', 'content_type', 'countries', 'for_kids', 'age_rating', 'studios']"
   ]
  },
  {
   "cell_type": "code",
   "execution_count": 30,
   "id": "b275eeb5-67ca-43df-bc9f-8276cfc125fe",
   "metadata": {
    "tags": []
   },
   "outputs": [],
   "source": [
    "train_feat = ctb_train.merge(user_feat,\n",
    "                           on=['user_id'],\n",
    "                           how='left')\n",
    "\n",
    "eval_feat = ctb_eval.merge(user_feat,\n",
    "                           on=['user_id'],\n",
    "                           how='left')"
   ]
  },
  {
   "cell_type": "code",
   "execution_count": 31,
   "id": "ba7f1778-16f6-41e7-939c-d4f16495e95c",
   "metadata": {
    "tags": []
   },
   "outputs": [],
   "source": [
    "drop_col = ['user_id', 'item_id', 'report_dt', 'f163']\n",
    "target_col = ['target']"
   ]
  },
  {
   "cell_type": "code",
   "execution_count": 32,
   "id": "5e9bff0f-fc72-4974-9fc1-a17f05e27c07",
   "metadata": {
    "tags": []
   },
   "outputs": [],
   "source": [
    "X_train, y_train = train_feat.drop(drop_col + target_col, axis=1), train_feat[target_col]\n",
    "X_val, y_val = eval_feat.drop(drop_col + target_col, axis=1), eval_feat[target_col]"
   ]
  },
  {
   "cell_type": "code",
   "execution_count": 33,
   "id": "01140ce1-a1b0-48d9-a684-5825da4d9a7e",
   "metadata": {
    "tags": []
   },
   "outputs": [
    {
     "data": {
      "text/html": [
       "<div>\n",
       "<style scoped>\n",
       "    .dataframe tbody tr th:only-of-type {\n",
       "        vertical-align: middle;\n",
       "    }\n",
       "\n",
       "    .dataframe tbody tr th {\n",
       "        vertical-align: top;\n",
       "    }\n",
       "\n",
       "    .dataframe thead th {\n",
       "        text-align: right;\n",
       "    }\n",
       "</style>\n",
       "<table border=\"1\" class=\"dataframe\">\n",
       "  <thead>\n",
       "    <tr style=\"text-align: right;\">\n",
       "      <th></th>\n",
       "      <th>rank</th>\n",
       "      <th>f0</th>\n",
       "      <th>f1</th>\n",
       "      <th>f2</th>\n",
       "      <th>f3</th>\n",
       "      <th>f4</th>\n",
       "      <th>f5</th>\n",
       "      <th>f6</th>\n",
       "      <th>f7</th>\n",
       "      <th>f8</th>\n",
       "      <th>...</th>\n",
       "      <th>f153</th>\n",
       "      <th>f154</th>\n",
       "      <th>f155</th>\n",
       "      <th>f156</th>\n",
       "      <th>f157</th>\n",
       "      <th>f158</th>\n",
       "      <th>f159</th>\n",
       "      <th>f160</th>\n",
       "      <th>f161</th>\n",
       "      <th>f162</th>\n",
       "    </tr>\n",
       "  </thead>\n",
       "  <tbody>\n",
       "    <tr>\n",
       "      <th>0</th>\n",
       "      <td>16</td>\n",
       "      <td>6.0</td>\n",
       "      <td>-0.067670</td>\n",
       "      <td>0.0</td>\n",
       "      <td>1.358098</td>\n",
       "      <td>NaN</td>\n",
       "      <td>0.267180</td>\n",
       "      <td>-0.036908</td>\n",
       "      <td>0.031101</td>\n",
       "      <td>0.359316</td>\n",
       "      <td>...</td>\n",
       "      <td>-0.279869</td>\n",
       "      <td>0.0</td>\n",
       "      <td>0.280952</td>\n",
       "      <td>1.740793</td>\n",
       "      <td>NaN</td>\n",
       "      <td>1.534635</td>\n",
       "      <td>1.0</td>\n",
       "      <td>NaN</td>\n",
       "      <td>-1.031667</td>\n",
       "      <td>3.740928</td>\n",
       "    </tr>\n",
       "    <tr>\n",
       "      <th>1</th>\n",
       "      <td>6</td>\n",
       "      <td>5.0</td>\n",
       "      <td>-0.067670</td>\n",
       "      <td>0.0</td>\n",
       "      <td>NaN</td>\n",
       "      <td>NaN</td>\n",
       "      <td>0.101772</td>\n",
       "      <td>-0.037638</td>\n",
       "      <td>-0.013597</td>\n",
       "      <td>-0.121223</td>\n",
       "      <td>...</td>\n",
       "      <td>-0.492888</td>\n",
       "      <td>0.0</td>\n",
       "      <td>-0.055338</td>\n",
       "      <td>0.320798</td>\n",
       "      <td>1.368962</td>\n",
       "      <td>-0.310763</td>\n",
       "      <td>1.0</td>\n",
       "      <td>0.177907</td>\n",
       "      <td>NaN</td>\n",
       "      <td>-0.750813</td>\n",
       "    </tr>\n",
       "    <tr>\n",
       "      <th>2</th>\n",
       "      <td>28</td>\n",
       "      <td>4.0</td>\n",
       "      <td>-0.790499</td>\n",
       "      <td>0.0</td>\n",
       "      <td>-0.327611</td>\n",
       "      <td>2.096018</td>\n",
       "      <td>-0.100892</td>\n",
       "      <td>-0.037598</td>\n",
       "      <td>-0.041235</td>\n",
       "      <td>0.432125</td>\n",
       "      <td>...</td>\n",
       "      <td>-0.279869</td>\n",
       "      <td>0.0</td>\n",
       "      <td>-0.118417</td>\n",
       "      <td>-0.112813</td>\n",
       "      <td>-0.995882</td>\n",
       "      <td>-0.473592</td>\n",
       "      <td>1.0</td>\n",
       "      <td>NaN</td>\n",
       "      <td>NaN</td>\n",
       "      <td>-0.513266</td>\n",
       "    </tr>\n",
       "    <tr>\n",
       "      <th>3</th>\n",
       "      <td>5</td>\n",
       "      <td>6.0</td>\n",
       "      <td>-0.067670</td>\n",
       "      <td>0.0</td>\n",
       "      <td>NaN</td>\n",
       "      <td>NaN</td>\n",
       "      <td>0.293650</td>\n",
       "      <td>-0.037400</td>\n",
       "      <td>0.166120</td>\n",
       "      <td>0.359316</td>\n",
       "      <td>...</td>\n",
       "      <td>-0.279869</td>\n",
       "      <td>0.0</td>\n",
       "      <td>0.640666</td>\n",
       "      <td>0.291008</td>\n",
       "      <td>0.142502</td>\n",
       "      <td>-0.093657</td>\n",
       "      <td>1.0</td>\n",
       "      <td>NaN</td>\n",
       "      <td>0.640900</td>\n",
       "      <td>-0.746928</td>\n",
       "    </tr>\n",
       "    <tr>\n",
       "      <th>4</th>\n",
       "      <td>11</td>\n",
       "      <td>3.0</td>\n",
       "      <td>-0.790499</td>\n",
       "      <td>0.0</td>\n",
       "      <td>NaN</td>\n",
       "      <td>NaN</td>\n",
       "      <td>-0.167011</td>\n",
       "      <td>NaN</td>\n",
       "      <td>-0.038739</td>\n",
       "      <td>-1.038616</td>\n",
       "      <td>...</td>\n",
       "      <td>NaN</td>\n",
       "      <td>0.0</td>\n",
       "      <td>-0.138801</td>\n",
       "      <td>-0.286589</td>\n",
       "      <td>NaN</td>\n",
       "      <td>-0.365039</td>\n",
       "      <td>1.0</td>\n",
       "      <td>-0.067375</td>\n",
       "      <td>NaN</td>\n",
       "      <td>0.394184</td>\n",
       "    </tr>\n",
       "    <tr>\n",
       "      <th>...</th>\n",
       "      <td>...</td>\n",
       "      <td>...</td>\n",
       "      <td>...</td>\n",
       "      <td>...</td>\n",
       "      <td>...</td>\n",
       "      <td>...</td>\n",
       "      <td>...</td>\n",
       "      <td>...</td>\n",
       "      <td>...</td>\n",
       "      <td>...</td>\n",
       "      <td>...</td>\n",
       "      <td>...</td>\n",
       "      <td>...</td>\n",
       "      <td>...</td>\n",
       "      <td>...</td>\n",
       "      <td>...</td>\n",
       "      <td>...</td>\n",
       "      <td>...</td>\n",
       "      <td>...</td>\n",
       "      <td>...</td>\n",
       "      <td>...</td>\n",
       "    </tr>\n",
       "    <tr>\n",
       "      <th>2097</th>\n",
       "      <td>11</td>\n",
       "      <td>5.0</td>\n",
       "      <td>2.100816</td>\n",
       "      <td>0.0</td>\n",
       "      <td>1.358098</td>\n",
       "      <td>NaN</td>\n",
       "      <td>0.180008</td>\n",
       "      <td>0.012355</td>\n",
       "      <td>0.027800</td>\n",
       "      <td>0.373877</td>\n",
       "      <td>...</td>\n",
       "      <td>-0.492888</td>\n",
       "      <td>0.0</td>\n",
       "      <td>0.001043</td>\n",
       "      <td>0.231428</td>\n",
       "      <td>NaN</td>\n",
       "      <td>-0.473592</td>\n",
       "      <td>1.0</td>\n",
       "      <td>0.246313</td>\n",
       "      <td>NaN</td>\n",
       "      <td>-0.765798</td>\n",
       "    </tr>\n",
       "    <tr>\n",
       "      <th>2098</th>\n",
       "      <td>4</td>\n",
       "      <td>3.0</td>\n",
       "      <td>-0.790499</td>\n",
       "      <td>0.0</td>\n",
       "      <td>NaN</td>\n",
       "      <td>1.674893</td>\n",
       "      <td>-0.122071</td>\n",
       "      <td>-0.033506</td>\n",
       "      <td>0.409393</td>\n",
       "      <td>-0.237718</td>\n",
       "      <td>...</td>\n",
       "      <td>1.850312</td>\n",
       "      <td>0.0</td>\n",
       "      <td>-0.083715</td>\n",
       "      <td>0.281078</td>\n",
       "      <td>-0.591285</td>\n",
       "      <td>-0.419316</td>\n",
       "      <td>1.0</td>\n",
       "      <td>-0.030013</td>\n",
       "      <td>NaN</td>\n",
       "      <td>-0.760803</td>\n",
       "    </tr>\n",
       "    <tr>\n",
       "      <th>2099</th>\n",
       "      <td>4</td>\n",
       "      <td>5.0</td>\n",
       "      <td>1.377987</td>\n",
       "      <td>0.0</td>\n",
       "      <td>NaN</td>\n",
       "      <td>NaN</td>\n",
       "      <td>-0.053874</td>\n",
       "      <td>-0.037612</td>\n",
       "      <td>-0.035133</td>\n",
       "      <td>0.228260</td>\n",
       "      <td>...</td>\n",
       "      <td>NaN</td>\n",
       "      <td>0.0</td>\n",
       "      <td>-0.017604</td>\n",
       "      <td>0.679934</td>\n",
       "      <td>NaN</td>\n",
       "      <td>NaN</td>\n",
       "      <td>1.0</td>\n",
       "      <td>NaN</td>\n",
       "      <td>NaN</td>\n",
       "      <td>-0.264064</td>\n",
       "    </tr>\n",
       "    <tr>\n",
       "      <th>2100</th>\n",
       "      <td>5</td>\n",
       "      <td>3.0</td>\n",
       "      <td>0.655159</td>\n",
       "      <td>0.0</td>\n",
       "      <td>NaN</td>\n",
       "      <td>NaN</td>\n",
       "      <td>0.105586</td>\n",
       "      <td>-0.037637</td>\n",
       "      <td>-0.031825</td>\n",
       "      <td>-0.732819</td>\n",
       "      <td>...</td>\n",
       "      <td>0.998240</td>\n",
       "      <td>1.0</td>\n",
       "      <td>-0.063612</td>\n",
       "      <td>-0.000273</td>\n",
       "      <td>1.343893</td>\n",
       "      <td>-0.419316</td>\n",
       "      <td>1.0</td>\n",
       "      <td>0.273887</td>\n",
       "      <td>NaN</td>\n",
       "      <td>-0.142516</td>\n",
       "    </tr>\n",
       "    <tr>\n",
       "      <th>2101</th>\n",
       "      <td>1</td>\n",
       "      <td>6.0</td>\n",
       "      <td>2.100816</td>\n",
       "      <td>0.0</td>\n",
       "      <td>NaN</td>\n",
       "      <td>NaN</td>\n",
       "      <td>-0.171197</td>\n",
       "      <td>NaN</td>\n",
       "      <td>-0.051681</td>\n",
       "      <td>-0.674571</td>\n",
       "      <td>...</td>\n",
       "      <td>0.359185</td>\n",
       "      <td>0.0</td>\n",
       "      <td>-0.115608</td>\n",
       "      <td>-0.251834</td>\n",
       "      <td>-0.544640</td>\n",
       "      <td>0.232001</td>\n",
       "      <td>1.0</td>\n",
       "      <td>-0.110761</td>\n",
       "      <td>NaN</td>\n",
       "      <td>NaN</td>\n",
       "    </tr>\n",
       "  </tbody>\n",
       "</table>\n",
       "<p>2102 rows × 164 columns</p>\n",
       "</div>"
      ],
      "text/plain": [
       "      rank   f0        f1   f2        f3        f4        f5        f6  \\\n",
       "0       16  6.0 -0.067670  0.0  1.358098       NaN  0.267180 -0.036908   \n",
       "1        6  5.0 -0.067670  0.0       NaN       NaN  0.101772 -0.037638   \n",
       "2       28  4.0 -0.790499  0.0 -0.327611  2.096018 -0.100892 -0.037598   \n",
       "3        5  6.0 -0.067670  0.0       NaN       NaN  0.293650 -0.037400   \n",
       "4       11  3.0 -0.790499  0.0       NaN       NaN -0.167011       NaN   \n",
       "...    ...  ...       ...  ...       ...       ...       ...       ...   \n",
       "2097    11  5.0  2.100816  0.0  1.358098       NaN  0.180008  0.012355   \n",
       "2098     4  3.0 -0.790499  0.0       NaN  1.674893 -0.122071 -0.033506   \n",
       "2099     4  5.0  1.377987  0.0       NaN       NaN -0.053874 -0.037612   \n",
       "2100     5  3.0  0.655159  0.0       NaN       NaN  0.105586 -0.037637   \n",
       "2101     1  6.0  2.100816  0.0       NaN       NaN -0.171197       NaN   \n",
       "\n",
       "            f7        f8  ...      f153  f154      f155      f156      f157  \\\n",
       "0     0.031101  0.359316  ... -0.279869   0.0  0.280952  1.740793       NaN   \n",
       "1    -0.013597 -0.121223  ... -0.492888   0.0 -0.055338  0.320798  1.368962   \n",
       "2    -0.041235  0.432125  ... -0.279869   0.0 -0.118417 -0.112813 -0.995882   \n",
       "3     0.166120  0.359316  ... -0.279869   0.0  0.640666  0.291008  0.142502   \n",
       "4    -0.038739 -1.038616  ...       NaN   0.0 -0.138801 -0.286589       NaN   \n",
       "...        ...       ...  ...       ...   ...       ...       ...       ...   \n",
       "2097  0.027800  0.373877  ... -0.492888   0.0  0.001043  0.231428       NaN   \n",
       "2098  0.409393 -0.237718  ...  1.850312   0.0 -0.083715  0.281078 -0.591285   \n",
       "2099 -0.035133  0.228260  ...       NaN   0.0 -0.017604  0.679934       NaN   \n",
       "2100 -0.031825 -0.732819  ...  0.998240   1.0 -0.063612 -0.000273  1.343893   \n",
       "2101 -0.051681 -0.674571  ...  0.359185   0.0 -0.115608 -0.251834 -0.544640   \n",
       "\n",
       "          f158  f159      f160      f161      f162  \n",
       "0     1.534635   1.0       NaN -1.031667  3.740928  \n",
       "1    -0.310763   1.0  0.177907       NaN -0.750813  \n",
       "2    -0.473592   1.0       NaN       NaN -0.513266  \n",
       "3    -0.093657   1.0       NaN  0.640900 -0.746928  \n",
       "4    -0.365039   1.0 -0.067375       NaN  0.394184  \n",
       "...        ...   ...       ...       ...       ...  \n",
       "2097 -0.473592   1.0  0.246313       NaN -0.765798  \n",
       "2098 -0.419316   1.0 -0.030013       NaN -0.760803  \n",
       "2099       NaN   1.0       NaN       NaN -0.264064  \n",
       "2100 -0.419316   1.0  0.273887       NaN -0.142516  \n",
       "2101  0.232001   1.0 -0.110761       NaN       NaN  \n",
       "\n",
       "[2102 rows x 164 columns]"
      ]
     },
     "execution_count": 33,
     "metadata": {},
     "output_type": "execute_result"
    }
   ],
   "source": [
    "X_train"
   ]
  },
  {
   "cell_type": "code",
   "execution_count": 34,
   "id": "964543ab-e752-4d20-a6ba-85826a3ab5f4",
   "metadata": {
    "tags": []
   },
   "outputs": [],
   "source": [
    "X_train = X_train.fillna(X_train.mode().iloc[0])\n",
    "X_val = X_val.fillna(X_train.mode().iloc[0])"
   ]
  },
  {
   "cell_type": "code",
   "execution_count": 35,
   "id": "b519437f-da52-4ef0-aac5-afc013695216",
   "metadata": {
    "tags": []
   },
   "outputs": [],
   "source": [
    "from catboost import CatBoostClassifier\n",
    "\n",
    "est_params = {\n",
    "  'subsample': 0.9,\n",
    "  'max_depth': 5,\n",
    "  'n_estimators': 2000,\n",
    "  'learning_rate': 0.1,\n",
    "  'thread_count': 20,\n",
    "  'random_state': 42,\n",
    "  'verbose': 200,\n",
    "}\n",
    "\n",
    "ctb_model = CatBoostClassifier(**est_params)"
   ]
  },
  {
   "cell_type": "code",
   "execution_count": 36,
   "id": "923259b3-474d-4927-b779-94eb0cece1b0",
   "metadata": {
    "tags": []
   },
   "outputs": [
    {
     "name": "stderr",
     "output_type": "stream",
     "text": [
      "TBB Warning: The number of workers is currently limited to 11. The request for 19 workers is ignored. Further requests for more workers will be silently ignored until the limit changes.\n",
      "\n"
     ]
    },
    {
     "name": "stdout",
     "output_type": "stream",
     "text": [
      "0:\tlearn: 0.6637184\ttest: 0.7022395\tbest: 0.7022395 (0)\ttotal: 48.1ms\tremaining: 1m 36s\n",
      "Stopped by overfitting detector  (100 iterations wait)\n",
      "\n",
      "bestTest = 0.6978968889\n",
      "bestIteration = 13\n",
      "\n",
      "Shrink model to first 14 iterations.\n"
     ]
    },
    {
     "data": {
      "text/plain": [
       "<catboost.core.CatBoostClassifier at 0x7fd501125c10>"
      ]
     },
     "execution_count": 36,
     "metadata": {},
     "output_type": "execute_result"
    }
   ],
   "source": [
    "ctb_model.fit(X_train,\n",
    "              y_train,\n",
    "              eval_set=(X_val, y_val),\n",
    "              early_stopping_rounds=100,)"
   ]
  },
  {
   "cell_type": "code",
   "execution_count": 37,
   "id": "5ff7b702-9cd8-4280-9ad0-43048750639b",
   "metadata": {
    "tags": []
   },
   "outputs": [],
   "source": [
    "with open(f\"ctb_model.dill\", 'wb') as f:\n",
    "    dill.dump(ctb_model, f)"
   ]
  },
  {
   "cell_type": "code",
   "execution_count": 38,
   "id": "87176cb1-34c7-49df-84d8-20819bbc6526",
   "metadata": {
    "tags": []
   },
   "outputs": [],
   "source": [
    "test_feat = ctb_test.merge(user_feat,\n",
    "                           on=['user_id'],\n",
    "                           how='left')"
   ]
  },
  {
   "cell_type": "code",
   "execution_count": 39,
   "id": "0c3589d4-3f9e-489e-bd3e-652142d84c40",
   "metadata": {
    "tags": []
   },
   "outputs": [],
   "source": [
    "test_feat = test_feat.fillna(X_train.mode().iloc[0])"
   ]
  },
  {
   "cell_type": "code",
   "execution_count": 40,
   "id": "250238a8-1fba-42f6-b90e-66d270c412ab",
   "metadata": {
    "tags": []
   },
   "outputs": [],
   "source": [
    "X_test, y_test = test_feat.drop(drop_col + target_col, axis=1), test_feat['target']"
   ]
  },
  {
   "cell_type": "code",
   "execution_count": 41,
   "id": "f96337f5-3e95-4ffc-ba4e-9afbc6b8d217",
   "metadata": {
    "tags": []
   },
   "outputs": [
    {
     "data": {
      "text/html": [
       "<div>\n",
       "<style scoped>\n",
       "    .dataframe tbody tr th:only-of-type {\n",
       "        vertical-align: middle;\n",
       "    }\n",
       "\n",
       "    .dataframe tbody tr th {\n",
       "        vertical-align: top;\n",
       "    }\n",
       "\n",
       "    .dataframe thead th {\n",
       "        text-align: right;\n",
       "    }\n",
       "</style>\n",
       "<table border=\"1\" class=\"dataframe\">\n",
       "  <thead>\n",
       "    <tr style=\"text-align: right;\">\n",
       "      <th></th>\n",
       "      <th>rank</th>\n",
       "      <th>f0</th>\n",
       "      <th>f1</th>\n",
       "      <th>f2</th>\n",
       "      <th>f3</th>\n",
       "      <th>f4</th>\n",
       "      <th>f5</th>\n",
       "      <th>f6</th>\n",
       "      <th>f7</th>\n",
       "      <th>f8</th>\n",
       "      <th>...</th>\n",
       "      <th>f153</th>\n",
       "      <th>f154</th>\n",
       "      <th>f155</th>\n",
       "      <th>f156</th>\n",
       "      <th>f157</th>\n",
       "      <th>f158</th>\n",
       "      <th>f159</th>\n",
       "      <th>f160</th>\n",
       "      <th>f161</th>\n",
       "      <th>f162</th>\n",
       "    </tr>\n",
       "  </thead>\n",
       "  <tbody>\n",
       "    <tr>\n",
       "      <th>0</th>\n",
       "      <td>12</td>\n",
       "      <td>4.0</td>\n",
       "      <td>0.655159</td>\n",
       "      <td>0.0</td>\n",
       "      <td>-0.327611</td>\n",
       "      <td>-0.838613</td>\n",
       "      <td>0.134353</td>\n",
       "      <td>-0.036688</td>\n",
       "      <td>-0.018752</td>\n",
       "      <td>1.713562</td>\n",
       "      <td>...</td>\n",
       "      <td>-0.066851</td>\n",
       "      <td>0.0</td>\n",
       "      <td>0.034045</td>\n",
       "      <td>0.373758</td>\n",
       "      <td>0.641960</td>\n",
       "      <td>-0.093657</td>\n",
       "      <td>1.0</td>\n",
       "      <td>-0.182737</td>\n",
       "      <td>0.178546</td>\n",
       "      <td>-0.689206</td>\n",
       "    </tr>\n",
       "    <tr>\n",
       "      <th>1</th>\n",
       "      <td>22</td>\n",
       "      <td>4.0</td>\n",
       "      <td>-0.790499</td>\n",
       "      <td>0.0</td>\n",
       "      <td>-0.327611</td>\n",
       "      <td>-0.698238</td>\n",
       "      <td>-0.090526</td>\n",
       "      <td>-0.006228</td>\n",
       "      <td>-0.035421</td>\n",
       "      <td>0.082642</td>\n",
       "      <td>...</td>\n",
       "      <td>-0.279869</td>\n",
       "      <td>0.0</td>\n",
       "      <td>-0.076884</td>\n",
       "      <td>0.201638</td>\n",
       "      <td>-1.380274</td>\n",
       "      <td>0.557660</td>\n",
       "      <td>1.0</td>\n",
       "      <td>-0.131154</td>\n",
       "      <td>0.178546</td>\n",
       "      <td>-0.672001</td>\n",
       "    </tr>\n",
       "    <tr>\n",
       "      <th>2</th>\n",
       "      <td>10</td>\n",
       "      <td>5.0</td>\n",
       "      <td>-0.067670</td>\n",
       "      <td>0.0</td>\n",
       "      <td>-0.327611</td>\n",
       "      <td>-0.838613</td>\n",
       "      <td>-0.167205</td>\n",
       "      <td>-0.037638</td>\n",
       "      <td>-0.030804</td>\n",
       "      <td>-0.747380</td>\n",
       "      <td>...</td>\n",
       "      <td>-0.492888</td>\n",
       "      <td>0.0</td>\n",
       "      <td>0.014177</td>\n",
       "      <td>-0.225354</td>\n",
       "      <td>0.641960</td>\n",
       "      <td>-0.419316</td>\n",
       "      <td>1.0</td>\n",
       "      <td>-0.030013</td>\n",
       "      <td>0.178546</td>\n",
       "      <td>-0.690871</td>\n",
       "    </tr>\n",
       "    <tr>\n",
       "      <th>3</th>\n",
       "      <td>4</td>\n",
       "      <td>3.0</td>\n",
       "      <td>0.655159</td>\n",
       "      <td>0.0</td>\n",
       "      <td>1.358098</td>\n",
       "      <td>-0.790938</td>\n",
       "      <td>-0.151595</td>\n",
       "      <td>-0.034355</td>\n",
       "      <td>-0.051648</td>\n",
       "      <td>0.373877</td>\n",
       "      <td>...</td>\n",
       "      <td>-0.279869</td>\n",
       "      <td>0.0</td>\n",
       "      <td>-0.120054</td>\n",
       "      <td>-0.241904</td>\n",
       "      <td>0.641960</td>\n",
       "      <td>-0.310763</td>\n",
       "      <td>1.0</td>\n",
       "      <td>-0.101013</td>\n",
       "      <td>0.178546</td>\n",
       "      <td>0.134437</td>\n",
       "    </tr>\n",
       "    <tr>\n",
       "      <th>4</th>\n",
       "      <td>16</td>\n",
       "      <td>6.0</td>\n",
       "      <td>0.655159</td>\n",
       "      <td>0.0</td>\n",
       "      <td>-0.327611</td>\n",
       "      <td>2.085423</td>\n",
       "      <td>0.982819</td>\n",
       "      <td>-0.037638</td>\n",
       "      <td>0.099054</td>\n",
       "      <td>0.912664</td>\n",
       "      <td>...</td>\n",
       "      <td>-0.279869</td>\n",
       "      <td>1.0</td>\n",
       "      <td>0.105183</td>\n",
       "      <td>0.423409</td>\n",
       "      <td>0.641960</td>\n",
       "      <td>1.534635</td>\n",
       "      <td>1.0</td>\n",
       "      <td>-0.030013</td>\n",
       "      <td>-1.036231</td>\n",
       "      <td>-0.658680</td>\n",
       "    </tr>\n",
       "  </tbody>\n",
       "</table>\n",
       "<p>5 rows × 164 columns</p>\n",
       "</div>"
      ],
      "text/plain": [
       "   rank   f0        f1   f2        f3        f4        f5        f6        f7  \\\n",
       "0    12  4.0  0.655159  0.0 -0.327611 -0.838613  0.134353 -0.036688 -0.018752   \n",
       "1    22  4.0 -0.790499  0.0 -0.327611 -0.698238 -0.090526 -0.006228 -0.035421   \n",
       "2    10  5.0 -0.067670  0.0 -0.327611 -0.838613 -0.167205 -0.037638 -0.030804   \n",
       "3     4  3.0  0.655159  0.0  1.358098 -0.790938 -0.151595 -0.034355 -0.051648   \n",
       "4    16  6.0  0.655159  0.0 -0.327611  2.085423  0.982819 -0.037638  0.099054   \n",
       "\n",
       "         f8  ...      f153  f154      f155      f156      f157      f158  \\\n",
       "0  1.713562  ... -0.066851   0.0  0.034045  0.373758  0.641960 -0.093657   \n",
       "1  0.082642  ... -0.279869   0.0 -0.076884  0.201638 -1.380274  0.557660   \n",
       "2 -0.747380  ... -0.492888   0.0  0.014177 -0.225354  0.641960 -0.419316   \n",
       "3  0.373877  ... -0.279869   0.0 -0.120054 -0.241904  0.641960 -0.310763   \n",
       "4  0.912664  ... -0.279869   1.0  0.105183  0.423409  0.641960  1.534635   \n",
       "\n",
       "   f159      f160      f161      f162  \n",
       "0   1.0 -0.182737  0.178546 -0.689206  \n",
       "1   1.0 -0.131154  0.178546 -0.672001  \n",
       "2   1.0 -0.030013  0.178546 -0.690871  \n",
       "3   1.0 -0.101013  0.178546  0.134437  \n",
       "4   1.0 -0.030013 -1.036231 -0.658680  \n",
       "\n",
       "[5 rows x 164 columns]"
      ]
     },
     "execution_count": 41,
     "metadata": {},
     "output_type": "execute_result"
    }
   ],
   "source": [
    "X_test.head()"
   ]
  },
  {
   "cell_type": "code",
   "execution_count": 42,
   "id": "a2f0e5b0-63ba-4189-ab3e-49f2909c0c60",
   "metadata": {
    "tags": []
   },
   "outputs": [],
   "source": [
    "y_pred = ctb_model.predict_proba(X_test)"
   ]
  },
  {
   "cell_type": "code",
   "execution_count": 43,
   "id": "a8ba7073-b725-41d3-bf9b-08aec87b3a0c",
   "metadata": {
    "tags": []
   },
   "outputs": [
    {
     "data": {
      "text/plain": [
       "'ROC AUC score = 0.60'"
      ]
     },
     "execution_count": 43,
     "metadata": {},
     "output_type": "execute_result"
    }
   ],
   "source": [
    "from sklearn.metrics import roc_auc_score\n",
    "\n",
    "f\"ROC AUC score = {roc_auc_score(y_test, y_pred[:, 1]):.2f}\""
   ]
  },
  {
   "cell_type": "code",
   "execution_count": 44,
   "id": "f9cbeb48-1c33-4d26-a3d6-9767819758d7",
   "metadata": {
    "tags": []
   },
   "outputs": [],
   "source": [
    "test = test[test['user_id'].isin(lfm_train['user_id'].unique())]"
   ]
  },
  {
   "cell_type": "code",
   "execution_count": 45,
   "id": "0e7b0e0e-f1a7-4c80-958a-c408550cef99",
   "metadata": {
    "tags": []
   },
   "outputs": [],
   "source": [
    "# кол-во кандидатов берем больше, чем для обучения\n",
    "# чтобы катбусту было, что ранжировать\n",
    "top_N = 200\n",
    "\n",
    "lfm_prediction = pd.DataFrame({\n",
    "    'user_id': test['user_id'].unique()\n",
    "})\n",
    "\n",
    "known_items = lfm_train.groupby('user_id')['item_id'].apply(list).to_dict()\n",
    "\n",
    "mapper = generate_lightfm_recs_mapper(\n",
    "    lfm_model, \n",
    "    item_ids=all_cols, \n",
    "    known_items=known_items,\n",
    "    N=top_N,\n",
    "    user_features=None, \n",
    "    item_features=None, \n",
    "    user_mapping=lightfm_mapping['users_mapping'],\n",
    "    item_inv_mapping=lightfm_mapping['items_inv_mapping'],\n",
    "    num_threads=20\n",
    ")\n",
    "\n",
    "lfm_prediction['item_id'] = lfm_prediction['user_id'].map(mapper)\n",
    "lfm_prediction = lfm_prediction.explode('item_id').reset_index(drop=True)\n",
    "lfm_prediction['rank'] = lfm_prediction.groupby('user_id').cumcount() + 1 "
   ]
  },
  {
   "cell_type": "code",
   "execution_count": 46,
   "id": "2e084612-3b27-48c6-b0a6-5d83ca43d9dc",
   "metadata": {
    "tags": []
   },
   "outputs": [
    {
     "data": {
      "text/plain": [
       "Precision@1     0.168950\n",
       "Recall@1        0.008316\n",
       "Precision@2     0.116438\n",
       "Recall@2        0.013083\n",
       "Precision@3     0.109589\n",
       "Recall@3        0.018867\n",
       "Precision@4     0.108447\n",
       "Recall@4        0.023080\n",
       "Precision@5     0.094064\n",
       "Recall@5        0.026590\n",
       "Precision@6     0.086758\n",
       "Recall@6        0.028918\n",
       "Precision@7     0.100457\n",
       "Recall@7        0.030705\n",
       "Precision@8     0.096176\n",
       "Recall@8        0.031444\n",
       "Precision@9     0.091578\n",
       "Recall@9        0.033152\n",
       "Precision@10    0.087671\n",
       "Recall@10       0.035995\n",
       "MAP@10          0.067661\n",
       "MRR             0.085257\n",
       "dtype: float64"
      ]
     },
     "execution_count": 46,
     "metadata": {},
     "output_type": "execute_result"
    }
   ],
   "source": [
    "lfm_metrics = compute_metrics(test[['user_id', 'item_id']],\n",
    "                              lfm_prediction, \n",
    "                              top_N=10)\n",
    "lfm_metrics"
   ]
  },
  {
   "cell_type": "code",
   "execution_count": 47,
   "id": "3b16deb2-6675-4d95-a59e-7b3d3690aca0",
   "metadata": {
    "tags": []
   },
   "outputs": [],
   "source": [
    "lfm_ctb_prediction = lfm_prediction.copy()\n",
    "\n",
    "# фичи для теста\n",
    "score_feat = lfm_ctb_prediction.merge(user_feat,\n",
    "                                   on=['user_id'],\n",
    "                                   how='left')\n",
    "# fillna for catboost with the most frequent value \n",
    "score_feat = score_feat.fillna(X_train.mode().iloc[0])"
   ]
  },
  {
   "cell_type": "code",
   "execution_count": 48,
   "id": "e971292e-d083-4fd7-ab1c-76066ffa0963",
   "metadata": {
    "tags": []
   },
   "outputs": [
    {
     "data": {
      "text/html": [
       "<div>\n",
       "<style scoped>\n",
       "    .dataframe tbody tr th:only-of-type {\n",
       "        vertical-align: middle;\n",
       "    }\n",
       "\n",
       "    .dataframe tbody tr th {\n",
       "        vertical-align: top;\n",
       "    }\n",
       "\n",
       "    .dataframe thead th {\n",
       "        text-align: right;\n",
       "    }\n",
       "</style>\n",
       "<table border=\"1\" class=\"dataframe\">\n",
       "  <thead>\n",
       "    <tr style=\"text-align: right;\">\n",
       "      <th></th>\n",
       "      <th>user_id</th>\n",
       "      <th>item_id</th>\n",
       "      <th>rank</th>\n",
       "      <th>ctb_pred</th>\n",
       "    </tr>\n",
       "  </thead>\n",
       "  <tbody>\n",
       "    <tr>\n",
       "      <th>0</th>\n",
       "      <td>2404320</td>\n",
       "      <td>452365</td>\n",
       "      <td>1</td>\n",
       "      <td>0.444957</td>\n",
       "    </tr>\n",
       "    <tr>\n",
       "      <th>1</th>\n",
       "      <td>2404320</td>\n",
       "      <td>1290849</td>\n",
       "      <td>2</td>\n",
       "      <td>0.444957</td>\n",
       "    </tr>\n",
       "    <tr>\n",
       "      <th>2</th>\n",
       "      <td>2404320</td>\n",
       "      <td>2344401</td>\n",
       "      <td>3</td>\n",
       "      <td>0.444957</td>\n",
       "    </tr>\n",
       "  </tbody>\n",
       "</table>\n",
       "</div>"
      ],
      "text/plain": [
       "   user_id  item_id  rank  ctb_pred\n",
       "0  2404320   452365     1  0.444957\n",
       "1  2404320  1290849     2  0.444957\n",
       "2  2404320  2344401     3  0.444957"
      ]
     },
     "execution_count": 48,
     "metadata": {},
     "output_type": "execute_result"
    }
   ],
   "source": [
    "ctb_prediction = ctb_model.predict_proba(score_feat.drop(drop_col, axis=1, errors='ignore'))\n",
    "\n",
    "lfm_ctb_prediction['ctb_pred'] = ctb_prediction[:, 1]\n",
    "lfm_ctb_prediction.head(3)"
   ]
  },
  {
   "cell_type": "code",
   "execution_count": 49,
   "id": "b59568a0-818a-4581-91f7-501412178c6b",
   "metadata": {
    "tags": []
   },
   "outputs": [
    {
     "data": {
      "text/html": [
       "<div>\n",
       "<style scoped>\n",
       "    .dataframe tbody tr th:only-of-type {\n",
       "        vertical-align: middle;\n",
       "    }\n",
       "\n",
       "    .dataframe tbody tr th {\n",
       "        vertical-align: top;\n",
       "    }\n",
       "\n",
       "    .dataframe thead th {\n",
       "        text-align: right;\n",
       "    }\n",
       "</style>\n",
       "<table border=\"1\" class=\"dataframe\">\n",
       "  <thead>\n",
       "    <tr style=\"text-align: right;\">\n",
       "      <th></th>\n",
       "      <th>user_id</th>\n",
       "      <th>item_id</th>\n",
       "      <th>rank</th>\n",
       "    </tr>\n",
       "  </thead>\n",
       "  <tbody>\n",
       "    <tr>\n",
       "      <th>16199</th>\n",
       "      <td>1013292</td>\n",
       "      <td>1477353</td>\n",
       "      <td>200</td>\n",
       "    </tr>\n",
       "    <tr>\n",
       "      <th>16126</th>\n",
       "      <td>1013292</td>\n",
       "      <td>1000682</td>\n",
       "      <td>127</td>\n",
       "    </tr>\n",
       "    <tr>\n",
       "      <th>16127</th>\n",
       "      <td>1013292</td>\n",
       "      <td>555570</td>\n",
       "      <td>128</td>\n",
       "    </tr>\n",
       "    <tr>\n",
       "      <th>16128</th>\n",
       "      <td>1013292</td>\n",
       "      <td>1223027</td>\n",
       "      <td>129</td>\n",
       "    </tr>\n",
       "    <tr>\n",
       "      <th>16129</th>\n",
       "      <td>1013292</td>\n",
       "      <td>1985328</td>\n",
       "      <td>130</td>\n",
       "    </tr>\n",
       "    <tr>\n",
       "      <th>16130</th>\n",
       "      <td>1013292</td>\n",
       "      <td>2949071</td>\n",
       "      <td>131</td>\n",
       "    </tr>\n",
       "    <tr>\n",
       "      <th>16131</th>\n",
       "      <td>1013292</td>\n",
       "      <td>3352565</td>\n",
       "      <td>132</td>\n",
       "    </tr>\n",
       "    <tr>\n",
       "      <th>16132</th>\n",
       "      <td>1013292</td>\n",
       "      <td>617503</td>\n",
       "      <td>133</td>\n",
       "    </tr>\n",
       "    <tr>\n",
       "      <th>16133</th>\n",
       "      <td>1013292</td>\n",
       "      <td>2720758</td>\n",
       "      <td>134</td>\n",
       "    </tr>\n",
       "    <tr>\n",
       "      <th>16134</th>\n",
       "      <td>1013292</td>\n",
       "      <td>2618894</td>\n",
       "      <td>135</td>\n",
       "    </tr>\n",
       "  </tbody>\n",
       "</table>\n",
       "</div>"
      ],
      "text/plain": [
       "       user_id  item_id  rank\n",
       "16199  1013292  1477353   200\n",
       "16126  1013292  1000682   127\n",
       "16127  1013292   555570   128\n",
       "16128  1013292  1223027   129\n",
       "16129  1013292  1985328   130\n",
       "16130  1013292  2949071   131\n",
       "16131  1013292  3352565   132\n",
       "16132  1013292   617503   133\n",
       "16133  1013292  2720758   134\n",
       "16134  1013292  2618894   135"
      ]
     },
     "execution_count": 49,
     "metadata": {},
     "output_type": "execute_result"
    }
   ],
   "source": [
    "lfm_prediction.sort_values(\n",
    "    by=['user_id'], ascending=[True]).head(10)"
   ]
  },
  {
   "cell_type": "code",
   "execution_count": 50,
   "id": "4bfff3fa-7bdf-4d79-bffe-7aefd924fa3b",
   "metadata": {
    "tags": []
   },
   "outputs": [],
   "source": [
    "lfm_ctb_prediction = lfm_ctb_prediction.sort_values(\n",
    "    by=['user_id', 'ctb_pred'], ascending=[True, False])\n",
    "lfm_ctb_prediction['rank_ctb'] = lfm_ctb_prediction.groupby('user_id').cumcount() + 1"
   ]
  },
  {
   "cell_type": "code",
   "execution_count": 51,
   "id": "79c8bc91-8a91-42f7-b78c-d71cf70e9f00",
   "metadata": {
    "tags": []
   },
   "outputs": [
    {
     "data": {
      "text/html": [
       "<div>\n",
       "<style scoped>\n",
       "    .dataframe tbody tr th:only-of-type {\n",
       "        vertical-align: middle;\n",
       "    }\n",
       "\n",
       "    .dataframe tbody tr th {\n",
       "        vertical-align: top;\n",
       "    }\n",
       "\n",
       "    .dataframe thead th {\n",
       "        text-align: right;\n",
       "    }\n",
       "</style>\n",
       "<table border=\"1\" class=\"dataframe\">\n",
       "  <thead>\n",
       "    <tr style=\"text-align: right;\">\n",
       "      <th></th>\n",
       "      <th>user_id</th>\n",
       "      <th>item_id</th>\n",
       "      <th>rank</th>\n",
       "      <th>ctb_pred</th>\n",
       "      <th>rank_ctb</th>\n",
       "    </tr>\n",
       "  </thead>\n",
       "  <tbody>\n",
       "    <tr>\n",
       "      <th>16000</th>\n",
       "      <td>1013292</td>\n",
       "      <td>3014073</td>\n",
       "      <td>1</td>\n",
       "      <td>0.463954</td>\n",
       "      <td>1</td>\n",
       "    </tr>\n",
       "    <tr>\n",
       "      <th>16001</th>\n",
       "      <td>1013292</td>\n",
       "      <td>2359194</td>\n",
       "      <td>2</td>\n",
       "      <td>0.463954</td>\n",
       "      <td>2</td>\n",
       "    </tr>\n",
       "    <tr>\n",
       "      <th>16002</th>\n",
       "      <td>1013292</td>\n",
       "      <td>695008</td>\n",
       "      <td>3</td>\n",
       "      <td>0.463954</td>\n",
       "      <td>3</td>\n",
       "    </tr>\n",
       "    <tr>\n",
       "      <th>16003</th>\n",
       "      <td>1013292</td>\n",
       "      <td>757894</td>\n",
       "      <td>4</td>\n",
       "      <td>0.463954</td>\n",
       "      <td>4</td>\n",
       "    </tr>\n",
       "    <tr>\n",
       "      <th>16004</th>\n",
       "      <td>1013292</td>\n",
       "      <td>1734930</td>\n",
       "      <td>5</td>\n",
       "      <td>0.463954</td>\n",
       "      <td>5</td>\n",
       "    </tr>\n",
       "    <tr>\n",
       "      <th>16005</th>\n",
       "      <td>1013292</td>\n",
       "      <td>1580881</td>\n",
       "      <td>6</td>\n",
       "      <td>0.463954</td>\n",
       "      <td>6</td>\n",
       "    </tr>\n",
       "    <tr>\n",
       "      <th>16006</th>\n",
       "      <td>1013292</td>\n",
       "      <td>50578</td>\n",
       "      <td>7</td>\n",
       "      <td>0.463954</td>\n",
       "      <td>7</td>\n",
       "    </tr>\n",
       "    <tr>\n",
       "      <th>16007</th>\n",
       "      <td>1013292</td>\n",
       "      <td>3303625</td>\n",
       "      <td>8</td>\n",
       "      <td>0.463954</td>\n",
       "      <td>8</td>\n",
       "    </tr>\n",
       "    <tr>\n",
       "      <th>16008</th>\n",
       "      <td>1013292</td>\n",
       "      <td>1610804</td>\n",
       "      <td>9</td>\n",
       "      <td>0.463954</td>\n",
       "      <td>9</td>\n",
       "    </tr>\n",
       "    <tr>\n",
       "      <th>16009</th>\n",
       "      <td>1013292</td>\n",
       "      <td>31394</td>\n",
       "      <td>10</td>\n",
       "      <td>0.463954</td>\n",
       "      <td>10</td>\n",
       "    </tr>\n",
       "  </tbody>\n",
       "</table>\n",
       "</div>"
      ],
      "text/plain": [
       "       user_id  item_id  rank  ctb_pred  rank_ctb\n",
       "16000  1013292  3014073     1  0.463954         1\n",
       "16001  1013292  2359194     2  0.463954         2\n",
       "16002  1013292   695008     3  0.463954         3\n",
       "16003  1013292   757894     4  0.463954         4\n",
       "16004  1013292  1734930     5  0.463954         5\n",
       "16005  1013292  1580881     6  0.463954         6\n",
       "16006  1013292    50578     7  0.463954         7\n",
       "16007  1013292  3303625     8  0.463954         8\n",
       "16008  1013292  1610804     9  0.463954         9\n",
       "16009  1013292    31394    10  0.463954        10"
      ]
     },
     "execution_count": 51,
     "metadata": {},
     "output_type": "execute_result"
    }
   ],
   "source": [
    "lfm_ctb_prediction.head(10)"
   ]
  },
  {
   "cell_type": "code",
   "execution_count": 53,
   "id": "2f4a5627-f6e9-43cb-b8db-0d6f5957f721",
   "metadata": {
    "tags": []
   },
   "outputs": [
    {
     "data": {
      "text/plain": [
       "Precision@1     0.171233\n",
       "Recall@1        0.008636\n",
       "Precision@2     0.140411\n",
       "Recall@2        0.016512\n",
       "Precision@3     0.128615\n",
       "Recall@3        0.022453\n",
       "Precision@4     0.123858\n",
       "Recall@4        0.026679\n",
       "Precision@5     0.105023\n",
       "Recall@5        0.027803\n",
       "Precision@6     0.095510\n",
       "Recall@6        0.029963\n",
       "Precision@7     0.109589\n",
       "Recall@7        0.032349\n",
       "Precision@8     0.103311\n",
       "Recall@8        0.033261\n",
       "Precision@9     0.098935\n",
       "Recall@9        0.035440\n",
       "Precision@10    0.095890\n",
       "Recall@10       0.037711\n",
       "MAP@10          0.073124\n",
       "MRR             0.084904\n",
       "dtype: float64"
      ]
     },
     "execution_count": 53,
     "metadata": {},
     "output_type": "execute_result"
    }
   ],
   "source": [
    "model_2step_metrics = compute_metrics(test[['user_id', 'item_id']],\n",
    "                                       lfm_ctb_prediction, \n",
    "                                       top_N=10, \n",
    "                                       rank_col='rank_ctb')\n",
    "model_2step_metrics"
   ]
  },
  {
   "cell_type": "code",
   "execution_count": 54,
   "id": "83711572-9f10-4112-a98c-110fee2bc37d",
   "metadata": {
    "tags": []
   },
   "outputs": [
    {
     "data": {
      "text/html": [
       "<div>\n",
       "<style scoped>\n",
       "    .dataframe tbody tr th:only-of-type {\n",
       "        vertical-align: middle;\n",
       "    }\n",
       "\n",
       "    .dataframe tbody tr th {\n",
       "        vertical-align: top;\n",
       "    }\n",
       "\n",
       "    .dataframe thead th {\n",
       "        text-align: right;\n",
       "    }\n",
       "</style>\n",
       "<table border=\"1\" class=\"dataframe\">\n",
       "  <thead>\n",
       "    <tr style=\"text-align: right;\">\n",
       "      <th></th>\n",
       "      <th>Precision@1</th>\n",
       "      <th>Recall@1</th>\n",
       "      <th>Precision@2</th>\n",
       "      <th>Recall@2</th>\n",
       "      <th>Precision@3</th>\n",
       "      <th>Recall@3</th>\n",
       "      <th>Precision@4</th>\n",
       "      <th>Recall@4</th>\n",
       "      <th>Precision@5</th>\n",
       "      <th>Recall@5</th>\n",
       "      <th>...</th>\n",
       "      <th>Precision@7</th>\n",
       "      <th>Recall@7</th>\n",
       "      <th>Precision@8</th>\n",
       "      <th>Recall@8</th>\n",
       "      <th>Precision@9</th>\n",
       "      <th>Recall@9</th>\n",
       "      <th>Precision@10</th>\n",
       "      <th>Recall@10</th>\n",
       "      <th>MAP@10</th>\n",
       "      <th>MRR</th>\n",
       "    </tr>\n",
       "  </thead>\n",
       "  <tbody>\n",
       "    <tr>\n",
       "      <th>lightfm</th>\n",
       "      <td>0.168950</td>\n",
       "      <td>0.008316</td>\n",
       "      <td>0.116438</td>\n",
       "      <td>0.013083</td>\n",
       "      <td>0.109589</td>\n",
       "      <td>0.018867</td>\n",
       "      <td>0.108447</td>\n",
       "      <td>0.023080</td>\n",
       "      <td>0.094064</td>\n",
       "      <td>0.026590</td>\n",
       "      <td>...</td>\n",
       "      <td>0.100457</td>\n",
       "      <td>0.030705</td>\n",
       "      <td>0.096176</td>\n",
       "      <td>0.031444</td>\n",
       "      <td>0.091578</td>\n",
       "      <td>0.033152</td>\n",
       "      <td>0.087671</td>\n",
       "      <td>0.035995</td>\n",
       "      <td>0.067661</td>\n",
       "      <td>0.085257</td>\n",
       "    </tr>\n",
       "    <tr>\n",
       "      <th>model_2step</th>\n",
       "      <td>0.171233</td>\n",
       "      <td>0.008636</td>\n",
       "      <td>0.140411</td>\n",
       "      <td>0.016512</td>\n",
       "      <td>0.128615</td>\n",
       "      <td>0.022453</td>\n",
       "      <td>0.123858</td>\n",
       "      <td>0.026679</td>\n",
       "      <td>0.105023</td>\n",
       "      <td>0.027803</td>\n",
       "      <td>...</td>\n",
       "      <td>0.109589</td>\n",
       "      <td>0.032349</td>\n",
       "      <td>0.103311</td>\n",
       "      <td>0.033261</td>\n",
       "      <td>0.098935</td>\n",
       "      <td>0.035440</td>\n",
       "      <td>0.095890</td>\n",
       "      <td>0.037711</td>\n",
       "      <td>0.073124</td>\n",
       "      <td>0.084904</td>\n",
       "    </tr>\n",
       "  </tbody>\n",
       "</table>\n",
       "<p>2 rows × 22 columns</p>\n",
       "</div>"
      ],
      "text/plain": [
       "             Precision@1  Recall@1  Precision@2  Recall@2  Precision@3  \\\n",
       "lightfm         0.168950  0.008316     0.116438  0.013083     0.109589   \n",
       "model_2step     0.171233  0.008636     0.140411  0.016512     0.128615   \n",
       "\n",
       "             Recall@3  Precision@4  Recall@4  Precision@5  Recall@5  ...  \\\n",
       "lightfm      0.018867     0.108447  0.023080     0.094064  0.026590  ...   \n",
       "model_2step  0.022453     0.123858  0.026679     0.105023  0.027803  ...   \n",
       "\n",
       "             Precision@7  Recall@7  Precision@8  Recall@8  Precision@9  \\\n",
       "lightfm         0.100457  0.030705     0.096176  0.031444     0.091578   \n",
       "model_2step     0.109589  0.032349     0.103311  0.033261     0.098935   \n",
       "\n",
       "             Recall@9  Precision@10  Recall@10    MAP@10       MRR  \n",
       "lightfm      0.033152      0.087671   0.035995  0.067661  0.085257  \n",
       "model_2step  0.035440      0.095890   0.037711  0.073124  0.084904  \n",
       "\n",
       "[2 rows x 22 columns]"
      ]
     },
     "execution_count": 54,
     "metadata": {},
     "output_type": "execute_result"
    }
   ],
   "source": [
    "df_metrics = pd.concat([\n",
    "    pd.DataFrame(lfm_metrics).transpose(),\n",
    "    pd.DataFrame(model_2step_metrics).transpose()\n",
    "])\n",
    "\n",
    "df_metrics.index = ['lightfm', 'model_2step']\n",
    "\n",
    "df_metrics"
   ]
  },
  {
   "cell_type": "code",
   "execution_count": 56,
   "id": "d58dc210-922e-4bfb-a66e-973666f7ec6e",
   "metadata": {
    "tags": []
   },
   "outputs": [
    {
     "data": {
      "image/png": "[encoded data removed]",
      "text/plain": [
       "<Figure size 700x1500 with 2 Axes>"
      ]
     },
     "metadata": {},
     "output_type": "display_data"
    }
   ],
   "source": [
    "import matplotlib.pyplot as plt\n",
    "fig, axes = plt.subplots(ncols=1, nrows=2, figsize=(7, 15))\n",
    "\n",
    "for indx, metric in enumerate([f'Recall@', f'Precision@']):\n",
    "    for model in df_metrics.index:\n",
    "        axes[indx].plot(range(1, 11), \n",
    "                        df_metrics.loc[model][[metric+f'{k}' for k in range(1, 11)]].values,\n",
    "                        label=model, marker='o')\n",
    "        axes[indx].legend()\n",
    "        axes[indx].set_title(f'{metric}k')\n",
    "        axes[indx].set_xlabel('k')"
   ]
  }
 ],
 "metadata": {
  "kernelspec": {
   "display_name": "Python 3 (ipykernel)",
   "language": "python",
   "name": "python3"
  },
  "language_info": {
   "codemirror_mode": {
    "name": "ipython",
    "version": 3
   },
   "file_extension": ".py",
   "mimetype": "text/x-python",
   "name": "python",
   "nbconvert_exporter": "python",
   "pygments_lexer": "ipython3",
   "version": "3.11.4"
  }
 },
 "nbformat": 4,
 "nbformat_minor": 5
}
